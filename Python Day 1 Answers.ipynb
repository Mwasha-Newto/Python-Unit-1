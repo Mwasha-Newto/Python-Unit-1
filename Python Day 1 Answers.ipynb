{
 "cells": [
  {
   "cell_type": "markdown",
   "id": "2d089ab9",
   "metadata": {},
   "source": [
    "# Python Day 1: Answers to Practice Questions"
   ]
  },
  {
   "cell_type": "markdown",
   "id": "3ba4d551",
   "metadata": {},
   "source": [
    "## Section 1 – Python as a Calculator"
   ]
  },
  {
   "cell_type": "markdown",
   "id": "4c154468",
   "metadata": {},
   "source": [
    "### Q1.1 – Basic arithmetic"
   ]
  },
  {
   "cell_type": "code",
   "execution_count": null,
   "id": "e8bbdcc3",
   "metadata": {},
   "outputs": [],
   "source": [
    "result_a = 15 + 27\n",
    "result_b = 100 - 45\n",
    "result_c = 8 * 7\n",
    "result_d = 50 / 4\n",
    "(result_a, result_b, result_c, result_d)"
   ]
  },
  {
   "cell_type": "markdown",
   "id": "f4d15157",
   "metadata": {},
   "source": [
    "### Q1.2 – Modulo operator"
   ]
  },
  {
   "cell_type": "code",
   "execution_count": null,
   "id": "8fbda0aa",
   "metadata": {},
   "outputs": [],
   "source": [
    "remainder_17_mod_5 = 17 % 5\n",
    "is_24_even = (24 % 2 == 0)\n",
    "(remainder_17_mod_5, is_24_even)"
   ]
  },
  {
   "cell_type": "markdown",
   "id": "b411fdd6",
   "metadata": {},
   "source": [
    "### Q1.3 – Store discount and tax"
   ]
  },
  {
   "cell_type": "code",
   "execution_count": null,
   "id": "d5bcf7a9",
   "metadata": {},
   "outputs": [],
   "source": [
    "original_price = 120\n",
    "discount = original_price * 0.15\n",
    "price_after_discount = original_price - discount\n",
    "final_price_with_tax = price_after_discount * 1.08\n",
    "(discount, price_after_discount, round(final_price_with_tax, 2))"
   ]
  },
  {
   "cell_type": "markdown",
   "id": "fe6c1423",
   "metadata": {},
   "source": [
    "### Q1.4 – Compound interest"
   ]
  },
  {
   "cell_type": "code",
   "execution_count": null,
   "id": "a6836964",
   "metadata": {},
   "outputs": [],
   "source": [
    "P = 1000\n",
    "r = 0.05\n",
    "t = 3\n",
    "A = P * (1 + r) ** t\n",
    "round(A, 2)"
   ]
  },
  {
   "cell_type": "markdown",
   "id": "6082662e",
   "metadata": {},
   "source": [
    "### Q1.5 – Quarterly sales analysis"
   ]
  },
  {
   "cell_type": "code",
   "execution_count": null,
   "id": "11b86342",
   "metadata": {},
   "outputs": [],
   "source": [
    "sales = [45000, 52000, 48000, 61000]\n",
    "total_sales = sum(sales)\n",
    "average_sales = total_sales / len(sales)\n",
    "growth_q1_to_q4 = (sales[-1] - sales[0]) / sales[0] * 100\n",
    "next_year_revenue = sales[-1] * 4\n",
    "(total_sales, average_sales, round(growth_q1_to_q4, 2), next_year_revenue)"
   ]
  },
  {
   "cell_type": "markdown",
   "id": "6f1a2495",
   "metadata": {},
   "source": [
    "## Section 2 – Variables and Data Types"
   ]
  },
  {
   "cell_type": "markdown",
   "id": "70456087",
   "metadata": {},
   "source": [
    "### Q2.1 – Creating basic type variables"
   ]
  },
  {
   "cell_type": "code",
   "execution_count": null,
   "id": "721ed3a3",
   "metadata": {},
   "outputs": [],
   "source": [
    "age = 25\n",
    "coffee_price = 3.50\n",
    "favourite_language = 'Python'\n",
    "likes_python = True\n",
    "(age, coffee_price, favourite_language, likes_python)"
   ]
  },
  {
   "cell_type": "markdown",
   "id": "2827cc4d",
   "metadata": {},
   "source": [
    "### Q2.2 – Type checking"
   ]
  },
  {
   "cell_type": "code",
   "execution_count": null,
   "id": "6011a87a",
   "metadata": {},
   "outputs": [],
   "source": [
    "(type(age), type(coffee_price), type(favourite_language), type(likes_python))"
   ]
  },
  {
   "cell_type": "markdown",
   "id": "2eb4885d",
   "metadata": {},
   "source": [
    "### Q2.3 – Type conversion challenge"
   ]
  },
  {
   "cell_type": "code",
   "execution_count": null,
   "id": "ab3a49c8",
   "metadata": {},
   "outputs": [],
   "source": [
    "int_value = int('42')\n",
    "str_value = str(100)\n",
    "float_value = float('3.14')\n",
    "(int_value, str_value, float_value)"
   ]
  },
  {
   "cell_type": "markdown",
   "id": "2f8b2c5c",
   "metadata": {},
   "source": [
    "### Q2.4 – Employee record using f-strings"
   ]
  },
  {
   "cell_type": "code",
   "execution_count": null,
   "id": "eaff40db",
   "metadata": {},
   "outputs": [],
   "source": [
    "name = 'John Smith'\n",
    "department = 'Sales'\n",
    "salary = 55000\n",
    "years_experience = 3.5\n",
    "record = f\"{name} works in {department}, earns ${salary:,} annually, has {years_experience} years of experience.\"\n",
    "record"
   ]
  },
  {
   "cell_type": "markdown",
   "id": "21eb2dc1",
   "metadata": {},
   "source": [
    "### Q2.5 – Data validation"
   ]
  },
  {
   "cell_type": "code",
   "execution_count": null,
   "id": "2e598089",
   "metadata": {},
   "outputs": [],
   "source": [
    "age_input = '25'\n",
    "height_input = '5.9'\n",
    "name_input = 'Alice'\n",
    "is_student_input = 'yes'\n",
    "age_val = int(age_input)\n",
    "height_val = float(height_input)\n",
    "name_val = str(name_input)\n",
    "is_student_val = is_student_input.lower() == 'yes'\n",
    "valid_age = age_val > 0\n",
    "valid_height = height_val > 0\n",
    "valid_name = bool(name_val)\n",
    "(age_val, height_val, name_val, is_student_val, valid_age, valid_height, valid_name)"
   ]
  },
  {
   "cell_type": "markdown",
   "id": "e1d28d01",
   "metadata": {},
   "source": [
    "## Section 3 – Lists"
   ]
  },
  {
   "cell_type": "markdown",
   "id": "c335fa31",
   "metadata": {},
   "source": [
    "### Q3.1 – Creating lists"
   ]
  },
  {
   "cell_type": "code",
   "execution_count": null,
   "id": "c9a32b64",
   "metadata": {},
   "outputs": [],
   "source": [
    "fruits = ['apple', 'banana', 'orange', 'grape', 'pear']\n",
    "numbers = list(range(10, 16))\n",
    "shopping_cart = []\n",
    "(fruits, numbers, shopping_cart)"
   ]
  },
  {
   "cell_type": "markdown",
   "id": "ea0c81ab",
   "metadata": {},
   "source": [
    "### Q3.2 – Working with the fruits list"
   ]
  },
  {
   "cell_type": "code",
   "execution_count": null,
   "id": "4a0a54b5",
   "metadata": {},
   "outputs": [],
   "source": [
    "first_fruit = fruits[0]\n",
    "last_fruit = fruits[-1]\n",
    "fruits.append('mango')\n",
    "total_fruits = len(fruits)\n",
    "(first_fruit, last_fruit, total_fruits, fruits)"
   ]
  },
  {
   "cell_type": "markdown",
   "id": "d319a260",
   "metadata": {},
   "source": [
    "### Q3.3 – Temperature analysis"
   ]
  },
  {
   "cell_type": "code",
   "execution_count": null,
   "id": "1b38d306",
   "metadata": {},
   "outputs": [],
   "source": [
    "temperatures = [72, 75, 78, 71, 73, 77, 74]\n",
    "highest = max(temperatures)\n",
    "lowest = min(temperatures)\n",
    "average = sum(temperatures) / len(temperatures)\n",
    "weekdays_only = temperatures[:5]\n",
    "(highest, lowest, average, weekdays_only)"
   ]
  },
  {
   "cell_type": "markdown",
   "id": "a4d3132e",
   "metadata": {},
   "source": [
    "### Q3.4 – Product list manipulation"
   ]
  },
  {
   "cell_type": "code",
   "execution_count": null,
   "id": "7841f152",
   "metadata": {},
   "outputs": [],
   "source": [
    "products = ['laptop', 'mouse', 'keyboard', 'monitor', 'headphones']\n",
    "prices = [999, 25, 50, 300, 80]\n",
    "products_over_50 = [prod for prod, price in zip(products, prices) if price > 50]\n",
    "total_cost = sum(prices)\n",
    "most_expensive = products[prices.index(max(prices))]\n",
    "(products_over_50, total_cost, most_expensive)"
   ]
  },
  {
   "cell_type": "markdown",
   "id": "fbb83209",
   "metadata": {},
   "source": [
    "### Q3.5 – Monthly sales analysis"
   ]
  },
  {
   "cell_type": "code",
   "execution_count": null,
   "id": "b9d17267",
   "metadata": {},
   "outputs": [],
   "source": [
    "monthly_sales = [12000, 15000, 13000, 16000, 14000, 17000, 15000, 18000, 16000, 19000, 17000, 20000]\n",
    "months = ['Jan','Feb','Mar','Apr','May','Jun','Jul','Aug','Sep','Oct','Nov','Dec']\n",
    "q_totals = [sum(monthly_sales[i:i+3]) for i in range(0, len(monthly_sales), 3)]\n",
    "max_month = months[monthly_sales.index(max(monthly_sales))]\n",
    "increase = (monthly_sales[-1] - monthly_sales[0]) / monthly_sales[0] * 100\n",
    "growth_quarters = [i+1 for i in range(1, len(q_totals)) if q_totals[i] > q_totals[i-1]]\n",
    "(q_totals, max_month, round(increase, 2), growth_quarters)"
   ]
  },
  {
   "cell_type": "markdown",
   "id": "a8e8cce3",
   "metadata": {},
   "source": [
    "## Section 4 – Tuples"
   ]
  },
  {
   "cell_type": "markdown",
   "id": "eaa98395",
   "metadata": {},
   "source": [
    "### Q4.1 – Creating tuples"
   ]
  },
  {
   "cell_type": "code",
   "execution_count": null,
   "id": "ae19faaa",
   "metadata": {},
   "outputs": [],
   "source": [
    "rgb_red = (255, 0, 0)\n",
    "point = (10, 20)\n",
    "date_tuple = (2024, 3, 15)\n",
    "(rgb_red, point, date_tuple)"
   ]
  },
  {
   "cell_type": "markdown",
   "id": "d2e1e2ff",
   "metadata": {},
   "source": [
    "### Q4.2 – Student information"
   ]
  },
  {
   "cell_type": "code",
   "execution_count": null,
   "id": "e9d03dcb",
   "metadata": {},
   "outputs": [],
   "source": [
    "student = ('Alice Johnson', 22, 'Computer Science', 3.8)\n",
    "name, age_student, major, gpa = student\n",
    "(name, gpa, student)"
   ]
  },
  {
   "cell_type": "markdown",
   "id": "fe7bddfe",
   "metadata": {},
   "source": [
    "### Q4.3 – Employee payroll analysis"
   ]
  },
  {
   "cell_type": "code",
   "execution_count": null,
   "id": "f7809ee0",
   "metadata": {},
   "outputs": [],
   "source": [
    "employees = [('John Doe','Sales',50000),('Jane Smith','Marketing',55000),('Bob Johnson','IT',65000),('Alice Brown','Sales',52000)]\n",
    "total_payroll = sum(emp[2] for emp in employees)\n",
    "sales_employees = [emp[0] for emp in employees if emp[1] == 'Sales']\n",
    "highest_paid = max(employees, key=lambda x: x[2])[0]\n",
    "(total_payroll, sales_employees, highest_paid)"
   ]
  },
  {
   "cell_type": "markdown",
   "id": "e228e382",
   "metadata": {},
   "source": [
    "### Q4.4 – Geographic data analysis"
   ]
  },
  {
   "cell_type": "code",
   "execution_count": null,
   "id": "5b67fd78",
   "metadata": {},
   "outputs": [],
   "source": [
    "cities = [('New York',(40.7128, -74.0060), 8336817),('Los Angeles',(34.0522, -118.2437), 3995756),('Chicago',(41.8781, -87.6298), 2693976),('Houston',(29.7604, -95.3698), 2320268)]\n",
    "total_population = sum(pop for _,_,pop in cities)\n",
    "northernmost = max(cities, key=lambda x: x[1][0])[0]\n",
    "avg_population = total_population / len(cities)\n",
    "cities_over_3m = [name for name,_,pop in cities if pop > 3000000]\n",
    "(total_population, northernmost, avg_population, cities_over_3m)"
   ]
  },
  {
   "cell_type": "markdown",
   "id": "8cae8a49",
   "metadata": {},
   "source": [
    "## Section 5 – Sets"
   ]
  },
  {
   "cell_type": "markdown",
   "id": "ba421401",
   "metadata": {},
   "source": [
    "### Q5.1 – Creating sets"
   ]
  },
  {
   "cell_type": "code",
   "execution_count": null,
   "id": "68c6ec6a",
   "metadata": {},
   "outputs": [],
   "source": [
    "primary_colors = {'red','blue','yellow'}\n",
    "unique_numbers = set([1,2,2,3,3,3,4])\n",
    "empty_set = set()\n",
    "(primary_colors, unique_numbers, empty_set)"
   ]
  },
  {
   "cell_type": "markdown",
   "id": "4743d92d",
   "metadata": {},
   "source": [
    "### Q5.2 – Unique products and counts"
   ]
  },
  {
   "cell_type": "code",
   "execution_count": null,
   "id": "14c628d1",
   "metadata": {},
   "outputs": [],
   "source": [
    "purchases = ['apple','banana','apple','orange','banana','apple']\n",
    "unique_products = set(purchases)\n",
    "num_unique = len(unique_products)\n",
    "unique_products.add('grape')\n",
    "(unique_products, num_unique)"
   ]
  },
  {
   "cell_type": "markdown",
   "id": "9d772cf7",
   "metadata": {},
   "source": [
    "### Q5.3 – Skills analysis"
   ]
  },
  {
   "cell_type": "code",
   "execution_count": null,
   "id": "e3ed9f7e",
   "metadata": {},
   "outputs": [],
   "source": [
    "team_a = {'Python','SQL','Excel','Tableau'}\n",
    "team_b = {'Python','R','SQL','PowerBI'}\n",
    "required = {'Python','SQL','Machine Learning'}\n",
    "common_skills = team_a & team_b\n",
    "a_not_b = team_a - team_b\n",
    "all_skills = team_a | team_b\n",
    "skills_needed = required - team_a\n",
    "(common_skills, a_not_b, all_skills, skills_needed)"
   ]
  },
  {
   "cell_type": "markdown",
   "id": "639c4c98",
   "metadata": {},
   "source": [
    "## Section 6 – Ranges"
   ]
  },
  {
   "cell_type": "markdown",
   "id": "32495051",
   "metadata": {},
   "source": [
    "### Q6.1 – Basic ranges"
   ]
  },
  {
   "cell_type": "code",
   "execution_count": null,
   "id": "8b170ea1",
   "metadata": {},
   "outputs": [],
   "source": [
    "range1 = list(range(10))\n",
    "range2 = list(range(5,16))\n",
    "even_numbers = list(range(0,21,2))\n",
    "(range1, range2, even_numbers)"
   ]
  },
  {
   "cell_type": "markdown",
   "id": "eb72c379",
   "metadata": {},
   "source": [
    "### Q6.2 – More range examples"
   ]
  },
  {
   "cell_type": "code",
   "execution_count": null,
   "id": "6748d832",
   "metadata": {},
   "outputs": [],
   "source": [
    "years = list(range(2020,2025))\n",
    "multiples_of_5 = list(range(0,51,5))\n",
    "countdown = list(range(10,0,-1))\n",
    "temperatures = list(range(-10,31,5))\n",
    "(years, multiples_of_5, countdown, temperatures)"
   ]
  },
  {
   "cell_type": "markdown",
   "id": "ad8e5c34",
   "metadata": {},
   "source": [
    "### Q6.3 – Batch processing simulation"
   ]
  },
  {
   "cell_type": "code",
   "execution_count": null,
   "id": "64b0d7ee",
   "metadata": {},
   "outputs": [],
   "source": [
    "total_records = 1_000_000\n",
    "batch_size = 1000\n",
    "batch_starts = list(range(0, total_records, batch_size))\n",
    "num_batches = len(batch_starts)\n",
    "first_five_batches = [(start, start + batch_size - 1) for start in batch_starts[:5]]\n",
    "(num_batches, first_five_batches)"
   ]
  },
  {
   "cell_type": "markdown",
   "id": "f5e6d2b0",
   "metadata": {},
   "source": [
    "## Section 7 – Indexing & Slicing"
   ]
  },
  {
   "cell_type": "markdown",
   "id": "75893f40",
   "metadata": {},
   "source": [
    "### Q7.1 – Accessing elements"
   ]
  },
  {
   "cell_type": "code",
   "execution_count": null,
   "id": "65b3d203",
   "metadata": {},
   "outputs": [],
   "source": [
    "letters = ['a','b','c','d','e','f','g','h']\n",
    "first = letters[0]\n",
    "last = letters[-1]\n",
    "third = letters[2]\n",
    "second_last = letters[-2]\n",
    "(first, last, third, second_last)"
   ]
  },
  {
   "cell_type": "markdown",
   "id": "9870b905",
   "metadata": {},
   "source": [
    "### Q7.2 – String and list slicing"
   ]
  },
  {
   "cell_type": "code",
   "execution_count": null,
   "id": "8b97cba7",
   "metadata": {},
   "outputs": [],
   "source": [
    "text = 'Python Programming'\n",
    "numbers = list(range(10))\n",
    "word_python = text[:6]\n",
    "word_programming = text[7:]\n",
    "every_other_letter = text[::2]\n",
    "first_half_numbers = numbers[:5]\n",
    "last_three_numbers = numbers[-3:]\n",
    "every_other_from_1 = numbers[1::2]\n",
    "(word_python, word_programming, every_other_letter, first_half_numbers, last_three_numbers, every_other_from_1)"
   ]
  },
  {
   "cell_type": "markdown",
   "id": "e76eb95a",
   "metadata": {},
   "source": [
    "### Q7.3 – Hourly website traffic analysis"
   ]
  },
  {
   "cell_type": "code",
   "execution_count": null,
   "id": "15b3f91b",
   "metadata": {},
   "outputs": [],
   "source": [
    "hourly_data = [120,135,142,128,156,189,201,245,289,312,298,276,254,231,198,176,154,143,136,128,122,118,115,112]\n",
    "morning = hourly_data[6:12]\n",
    "afternoon = hourly_data[12:18]\n",
    "evening = hourly_data[18:]\n",
    "avg_morning = sum(morning)/len(morning)\n",
    "avg_afternoon = sum(afternoon)/len(afternoon)\n",
    "avg_evening = sum(evening)/len(evening)\n",
    "peak_value = max(hourly_data)\n",
    "peak_hour = hourly_data.index(peak_value)\n",
    "(morning, afternoon, evening, avg_morning, avg_afternoon, avg_evening, peak_hour, peak_value)"
   ]
  },
  {
   "cell_type": "markdown",
   "id": "326688e2",
   "metadata": {},
   "source": [
    "## Section 8 – Combining Data Structures"
   ]
  },
  {
   "cell_type": "markdown",
   "id": "aeedf69c",
   "metadata": {},
   "source": [
    "### Q8.1 – Customer order analysis"
   ]
  },
  {
   "cell_type": "code",
   "execution_count": null,
   "id": "f63fd08c",
   "metadata": {},
   "outputs": [],
   "source": [
    "order_ids = ['ORD001','ORD002','ORD003','ORD004','ORD005']\n",
    "products = ['Laptop','Mouse','Laptop','Keyboard','Mouse']\n",
    "quantities = [1,2,1,1,3]\n",
    "prices = [999,25,999,50,25]\n",
    "orders = list(zip(order_ids, products, quantities, prices))\n",
    "total_revenue = sum(q * p for q, p in zip(quantities, prices))\n",
    "unique_products = set(products)\n",
    "total_items_sold = sum(quantities)\n",
    "(orders, total_revenue, unique_products, total_items_sold)"
   ]
  },
  {
   "cell_type": "markdown",
   "id": "9f1d19e6",
   "metadata": {},
   "source": [
    "### Q8.2 – Student records analysis"
   ]
  },
  {
   "cell_type": "code",
   "execution_count": null,
   "id": "bd7a0ac7",
   "metadata": {},
   "outputs": [],
   "source": [
    "students = [('Alice',20,'CS',3.8,['Python','Data Structures','Calculus']),('Bob',21,'Math',3.6,['Calculus','Statistics','Linear Algebra']),('Carol',19,'CS',3.9,['Python','Algorithms','Calculus']),('David',22,'Physics',3.7,['Calculus','Mechanics','Python']),('Eve',20,'CS',3.5,['Java','Data Structures','Statistics'])]\n",
    "unique_courses = set()\n",
    "for _,_,_,_,courses in students:\n",
    "    unique_courses.update(courses)\n",
    "cs_students = [name for name,_,major,_,_ in students if major == 'CS']\n",
    "from collections import defaultdict, Counter\n",
    "gpa_by_major = defaultdict(list)\n",
    "for name,age,major,gpa,courses in students:\n",
    "    gpa_by_major[major].append(gpa)\n",
    "avg_gpa = {major: sum(vals)/len(vals) for major, vals in gpa_by_major.items()}\n",
    "course_counts = Counter()\n",
    "for _,_,_,_,courses in students:\n",
    "    course_counts.update(courses)\n",
    "most_popular_course = course_counts.most_common(1)[0][0]\n",
    "python_calculus_students = [name for name,age,major,gpa,courses in students if 'Python' in courses and 'Calculus' in courses]\n",
    "cs_courses = set()\n",
    "for name,age,major,gpa,courses in students:\n",
    "    if major == 'CS':\n",
    "        cs_courses.update(courses)\n",
    "(unique_courses, cs_students, avg_gpa, most_popular_course, python_calculus_students, cs_courses)"
   ]
  },
  {
   "cell_type": "markdown",
   "id": "f1ae8be4",
   "metadata": {},
   "source": [
    "## Bonus Challenge – Sales Dashboard"
   ]
  },
  {
   "cell_type": "code",
   "execution_count": null,
   "id": "da66ad12",
   "metadata": {},
   "outputs": [],
   "source": [
    "daily_sales = [1200,1350,980,1450,1680,1590,1750,2100,2250,1980,2150,2400,2350,2560,1850,1920,1750,1680,1890,1950,2100,2300,2450,2380,2500,2650,2700,2850,2900,3100]\n",
    "week_totals = [sum(daily_sales[i:i+7]) for i in range(0, len(daily_sales), 7)]\n",
    "best_day = daily_sales.index(max(daily_sales)) + 1\n",
    "worst_day = daily_sales.index(min(daily_sales)) + 1\n",
    "growth = (week_totals[3] - week_totals[0]) / week_totals[0] * 100\n",
    "moving_avg = [sum(daily_sales[i:i+7])/7 for i in range(len(daily_sales)-6)]\n",
    "monthly_avg = sum(daily_sales) / len(daily_sales)\n",
    "days_exceeding = [i+1 for i,val in enumerate(daily_sales) if val > monthly_avg]\n",
    "(week_totals, best_day, worst_day, round(growth,2), moving_avg[:5], monthly_avg, days_exceeding)"
   ]
  }
 ],
 "metadata": {
  "kernelspec": {
   "display_name": "Python [conda env:base] *",
   "language": "python",
   "name": "conda-base-py"
  },
  "language_info": {
   "codemirror_mode": {
    "name": "ipython",
    "version": 3
   },
   "file_extension": ".py",
   "mimetype": "text/x-python",
   "name": "python",
   "nbconvert_exporter": "python",
   "pygments_lexer": "ipython3",
   "version": "3.12.7"
  }
 },
 "nbformat": 4,
 "nbformat_minor": 5
}
