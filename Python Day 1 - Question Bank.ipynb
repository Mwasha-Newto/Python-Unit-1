{
 "cells": [
  {
   "cell_type": "markdown",
   "metadata": {},
   "source": [
    "# Python Day 1: Practice Questions\n",
    "\n",
    "## Python Basics & Core Data Structures\n",
    "\n",
    "This notebook contains practice questions covering:\n",
    "- Python as a calculator\n",
    "- Variables and data types\n",
    "- Lists\n",
    "- Tuples\n",
    "- Sets\n",
    "- Ranges\n",
    "- Indexing and slicing\n",
    "- Combining data structures\n",
    "\n",
    "Questions are organized from easy to hard with scaffolding support.\n",
    "\n",
    "---"
   ]
  },
  {
   "cell_type": "markdown",
   "metadata": {},
   "source": [
    "## Section 1: Python as a Calculator\n",
    "\n",
    "### Easy Questions"
   ]
  },
  {
   "cell_type": "markdown",
   "metadata": {},
   "source": [
    "**Question 1.1:** Calculate the following using Python:\n",
    "- a) 15 + 27\n",
    "- b) 100 - 45\n",
    "- c) 8 * 7\n",
    "- d) 50 / 4"
   ]
  },
  {
   "cell_type": "code",
   "execution_count": null,
   "metadata": {},
   "outputs": [],
   "source": [
    "# Your code here\n"
   ]
  },
  {
   "cell_type": "markdown",
   "metadata": {},
   "source": [
    "**Question 1.2:** Use the modulo operator to find:\n",
    "- a) The remainder when 17 is divided by 5\n",
    "- b) Check if 24 is even (hint: even numbers have remainder 0 when divided by 2)"
   ]
  },
  {
   "cell_type": "code",
   "execution_count": null,
   "metadata": {},
   "outputs": [],
   "source": [
    "# Your code here\n"
   ]
  },
  {
   "cell_type": "markdown",
   "metadata": {},
   "source": [
    "### Medium Questions"
   ]
  },
  {
   "cell_type": "markdown",
   "metadata": {},
   "source": [
    "**Question 1.3:** A store offers a 15% discount on a $120 item. Calculate:\n",
    "- The discount amount\n",
    "- The final price after discount\n",
    "- The price including 8% tax on the discounted price"
   ]
  },
  {
   "cell_type": "code",
   "execution_count": null,
   "metadata": {},
   "outputs": [],
   "source": [
    "# Hint: Start with original_price = 120\n",
    "# Calculate discount as original_price * 0.15\n",
    "# Your code here\n"
   ]
  },
  {
   "cell_type": "markdown",
   "metadata": {},
   "source": [
    "**Question 1.4:** Calculate compound interest:\n",
    "- Principal: $1000\n",
    "- Annual interest rate: 5%\n",
    "- Time: 3 years\n",
    "- Formula: A = P(1 + r)^t"
   ]
  },
  {
   "cell_type": "code",
   "execution_count": null,
   "metadata": {},
   "outputs": [],
   "source": [
    "# Hint: Use ** for exponentiation\n",
    "# Your code here\n"
   ]
  },
  {
   "cell_type": "markdown",
   "metadata": {},
   "source": [
    "### Hard Questions"
   ]
  },
  {
   "cell_type": "markdown",
   "metadata": {},
   "source": [
    "**Question 1.5:** A company has quarterly sales of $45,000, $52,000, $48,000, and $61,000. Calculate:\n",
    "- Total annual sales\n",
    "- Average quarterly sales\n",
    "- The percentage growth from Q1 to Q4\n",
    "- If the company maintains Q4 sales for all of next year, what would be the annual revenue?"
   ]
  },
  {
   "cell_type": "code",
   "execution_count": null,
   "metadata": {},
   "outputs": [],
   "source": [
    "# Start by defining each quarter's sales\n",
    "# Your code here\n"
   ]
  },
  {
   "cell_type": "markdown",
   "metadata": {},
   "source": [
    "---\n",
    "\n",
    "## Section 2: Variables and Data Types\n",
    "\n",
    "### Easy Questions"
   ]
  },
  {
   "cell_type": "markdown",
   "metadata": {},
   "source": [
    "**Question 2.1:** Create variables of each basic type:\n",
    "- An integer representing your age\n",
    "- A float representing the price of coffee ($3.50)\n",
    "- A string with your favorite programming language\n",
    "- A boolean indicating if you like Python (True/False)"
   ]
  },
  {
   "cell_type": "code",
   "execution_count": null,
   "metadata": {},
   "outputs": [],
   "source": [
    "# Your code here\n"
   ]
  },
  {
   "cell_type": "markdown",
   "metadata": {},
   "source": [
    "**Question 2.2:** Check the type of each variable you created using the `type()` function."
   ]
  },
  {
   "cell_type": "code",
   "execution_count": null,
   "metadata": {},
   "outputs": [],
   "source": [
    "# Use type() on each variable from 2.1\n",
    "# Your code here\n"
   ]
  },
  {
   "cell_type": "markdown",
   "metadata": {},
   "source": [
    "### Medium Questions"
   ]
  },
  {
   "cell_type": "markdown",
   "metadata": {},
   "source": [
    "**Question 2.3:** Type conversion challenge:\n",
    "- Convert the string \"42\" to an integer\n",
    "- Convert the integer 100 to a string\n",
    "- Convert the string \"3.14\" to a float\n",
    "- Try to convert \"hello\" to an integer (what happens?)"
   ]
  },
  {
   "cell_type": "code",
   "execution_count": null,
   "metadata": {},
   "outputs": [],
   "source": [
    "# Hint: Use int(), str(), and float() functions\n",
    "# Your code here\n"
   ]
  },
  {
   "cell_type": "markdown",
   "metadata": {},
   "source": [
    "**Question 2.4:** Create an employee record with the following information and use f-strings to display it:\n",
    "- Name: \"John Smith\"\n",
    "- Department: \"Sales\"\n",
    "- Salary: 55000\n",
    "- Years of experience: 3.5\n",
    "- Full-time employee: True\n",
    "\n",
    "Display format: \"John Smith works in Sales, earns $55,000 annually, has 3.5 years of experience\""
   ]
  },
  {
   "cell_type": "code",
   "execution_count": null,
   "metadata": {},
   "outputs": [],
   "source": [
    "# Create variables first, then use f-string\n",
    "# Your code here\n"
   ]
  },
  {
   "cell_type": "markdown",
   "metadata": {},
   "source": [
    "### Hard Questions"
   ]
  },
  {
   "cell_type": "markdown",
   "metadata": {},
   "source": [
    "**Question 2.5:** Data validation challenge:\n",
    "Given user inputs as strings, validate and convert them appropriately:\n",
    "```python\n",
    "age_input = \"25\"\n",
    "height_input = \"5.9\"\n",
    "name_input = \"Alice\"\n",
    "is_student_input = \"yes\"\n",
    "```\n",
    "\n",
    "Convert each to the appropriate type and create validation checks:\n",
    "- Age should be a positive integer\n",
    "- Height should be a positive float\n",
    "- Name should remain a string but check it's not empty\n",
    "- Convert \"yes\"/\"no\" to boolean True/False"
   ]
  },
  {
   "cell_type": "code",
   "execution_count": null,
   "metadata": {},
   "outputs": [],
   "source": [
    "age_input = \"25\"\n",
    "height_input = \"5.9\"\n",
    "name_input = \"Alice\"\n",
    "is_student_input = \"yes\"\n",
    "\n",
    "# Your conversion and validation code here\n"
   ]
  },
  {
   "cell_type": "markdown",
   "metadata": {},
   "source": [
    "---\n",
    "\n",
    "## Section 3: Lists\n",
    "\n",
    "### Easy Questions"
   ]
  },
  {
   "cell_type": "markdown",
   "metadata": {},
   "source": [
    "**Question 3.1:** Create the following lists:\n",
    "- A list of 5 fruits\n",
    "- A list of numbers from 10 to 15\n",
    "- An empty list called `shopping_cart`"
   ]
  },
  {
   "cell_type": "code",
   "execution_count": null,
   "metadata": {},
   "outputs": [],
   "source": [
    "# Your code here\n"
   ]
  },
  {
   "cell_type": "markdown",
   "metadata": {},
   "source": [
    "**Question 3.2:** Using the fruits list from 3.1:\n",
    "- Print the first fruit\n",
    "- Print the last fruit\n",
    "- Add \"mango\" to the end of the list\n",
    "- Print the total number of fruits"
   ]
  },
  {
   "cell_type": "code",
   "execution_count": null,
   "metadata": {},
   "outputs": [],
   "source": [
    "# Use indexing and list methods\n",
    "# Your code here\n"
   ]
  },
  {
   "cell_type": "markdown",
   "metadata": {},
   "source": [
    "### Medium Questions"
   ]
  },
  {
   "cell_type": "markdown",
   "metadata": {},
   "source": [
    "**Question 3.3:** Given a list of daily temperatures for a week:\n",
    "```python\n",
    "temperatures = [72, 75, 78, 71, 73, 77, 74]\n",
    "```\n",
    "Calculate:\n",
    "- The highest temperature\n",
    "- The lowest temperature\n",
    "- The average temperature\n",
    "- The temperatures for weekdays only (first 5 days)"
   ]
  },
  {
   "cell_type": "code",
   "execution_count": null,
   "metadata": {},
   "outputs": [],
   "source": [
    "temperatures = [72, 75, 78, 71, 73, 77, 74]\n",
    "\n",
    "# Hint: Use max(), min(), sum(), len(), and slicing\n",
    "# Your code here\n"
   ]
  },
  {
   "cell_type": "markdown",
   "metadata": {},
   "source": [
    "**Question 3.4:** List manipulation:\n",
    "```python\n",
    "products = [\"laptop\", \"mouse\", \"keyboard\", \"monitor\", \"headphones\"]\n",
    "prices = [999, 25, 50, 300, 80]\n",
    "```\n",
    "- Create a new list with products over $50\n",
    "- Calculate the total cost of all products\n",
    "- Find the most expensive product (hint: use index of max price)"
   ]
  },
  {
   "cell_type": "code",
   "execution_count": null,
   "metadata": {},
   "outputs": [],
   "source": [
    "products = [\"laptop\", \"mouse\", \"keyboard\", \"monitor\", \"headphones\"]\n",
    "prices = [999, 25, 50, 300, 80]\n",
    "\n",
    "# Your code here\n"
   ]
  },
  {
   "cell_type": "markdown",
   "metadata": {},
   "source": [
    "### Hard Questions"
   ]
  },
  {
   "cell_type": "markdown",
   "metadata": {},
   "source": [
    "**Question 3.5:** Sales analysis:\n",
    "```python\n",
    "monthly_sales = [12000, 15000, 13000, 16000, 14000, 17000, \n",
    "                 15000, 18000, 16000, 19000, 17000, 20000]\n",
    "months = [\"Jan\", \"Feb\", \"Mar\", \"Apr\", \"May\", \"Jun\", \n",
    "          \"Jul\", \"Aug\", \"Sep\", \"Oct\", \"Nov\", \"Dec\"]\n",
    "```\n",
    "\n",
    "Calculate and display:\n",
    "- Quarterly sales totals (Q1, Q2, Q3, Q4)\n",
    "- The month with highest sales\n",
    "- The percentage increase from January to December\n",
    "- Which quarters showed growth compared to the previous quarter?"
   ]
  },
  {
   "cell_type": "code",
   "execution_count": null,
   "metadata": {},
   "outputs": [],
   "source": [
    "monthly_sales = [12000, 15000, 13000, 16000, 14000, 17000, \n",
    "                 15000, 18000, 16000, 19000, 17000, 20000]\n",
    "months = [\"Jan\", \"Feb\", \"Mar\", \"Apr\", \"May\", \"Jun\", \n",
    "          \"Jul\", \"Aug\", \"Sep\", \"Oct\", \"Nov\", \"Dec\"]\n",
    "\n",
    "# Hint: Use slicing for quarters [0:3], [3:6], etc.\n",
    "# Your code here\n"
   ]
  },
  {
   "cell_type": "markdown",
   "metadata": {},
   "source": [
    "---\n",
    "\n",
    "## Section 4: Tuples\n",
    "\n",
    "\n",
    "### Easy Questions"
   ]
  },
  {
   "cell_type": "markdown",
   "metadata": {},
   "source": [
    "**Question 4.1:** Create tuples for:\n",
    "- RGB color values for red: (255, 0, 0)\n",
    "- A point coordinate: (10, 20)\n",
    "- A date: (2024, 3, 15)"
   ]
  },
  {
   "cell_type": "code",
   "execution_count": null,
   "metadata": {},
   "outputs": [],
   "source": [
    "# Your code here\n"
   ]
  },
  {
   "cell_type": "markdown",
   "metadata": {},
   "source": [
    "**Question 4.2:** Given a tuple of student information:\n",
    "```python\n",
    "student = (\"Alice Johnson\", 22, \"Computer Science\", 3.8)\n",
    "```\n",
    "Extract and print:\n",
    "- The student's name\n",
    "- The student's GPA\n",
    "- All information using tuple unpacking"
   ]
  },
  {
   "cell_type": "code",
   "execution_count": null,
   "metadata": {},
   "outputs": [],
   "source": [
    "student = (\"Alice Johnson\", 22, \"Computer Science\", 3.8)\n",
    "\n",
    "# Your code here\n"
   ]
  },
  {
   "cell_type": "markdown",
   "metadata": {},
   "source": [
    "### Medium Questions"
   ]
  },
  {
   "cell_type": "markdown",
   "metadata": {},
   "source": [
    "**Question 4.3:** Create a list of employee records (tuples):\n",
    "```python\n",
    "employees = [\n",
    "    (\"John Doe\", \"Sales\", 50000),\n",
    "    (\"Jane Smith\", \"Marketing\", 55000),\n",
    "    (\"Bob Johnson\", \"IT\", 65000),\n",
    "    (\"Alice Brown\", \"Sales\", 52000)\n",
    "]\n",
    "```\n",
    "- Calculate the total payroll\n",
    "- Find all employees in Sales department\n",
    "- Find the highest paid employee"
   ]
  },
  {
   "cell_type": "code",
   "execution_count": null,
   "metadata": {},
   "outputs": [],
   "source": [
    "employees = [\n",
    "    (\"John Doe\", \"Sales\", 50000),\n",
    "    (\"Jane Smith\", \"Marketing\", 55000),\n",
    "    (\"Bob Johnson\", \"IT\", 65000),\n",
    "    (\"Alice Brown\", \"Sales\", 52000)\n",
    "]\n",
    "\n",
    "# Hint: Use tuple unpacking in loops\n",
    "# Your code here\n"
   ]
  },
  {
   "cell_type": "markdown",
   "metadata": {},
   "source": [
    "### Hard Questions"
   ]
  },
  {
   "cell_type": "markdown",
   "metadata": {},
   "source": [
    "**Question 4.4:** Geographic data analysis:\n",
    "```python\n",
    "cities = [\n",
    "    (\"New York\", (40.7128, -74.0060), 8336817),\n",
    "    (\"Los Angeles\", (34.0522, -118.2437), 3979576),\n",
    "    (\"Chicago\", (41.8781, -87.6298), 2693976),\n",
    "    (\"Houston\", (29.7604, -95.3698), 2320268)\n",
    "]\n",
    "```\n",
    "Each tuple contains: (city_name, (latitude, longitude), population)\n",
    "\n",
    "- Find the total population of all cities\n",
    "- Find the northernmost city (highest latitude)\n",
    "- Calculate the average population\n",
    "- Create a list of cities with population over 3 million"
   ]
  },
  {
   "cell_type": "code",
   "execution_count": null,
   "metadata": {},
   "outputs": [],
   "source": [
    "cities = [\n",
    "    (\"New York\", (40.7128, -74.0060), 8336817),\n",
    "    (\"Los Angeles\", (34.0522, -118.2437), 3979576),\n",
    "    (\"Chicago\", (41.8781, -87.6298), 2693976),\n",
    "    (\"Houston\", (29.7604, -95.3698), 2320268)\n",
    "]\n",
    "\n",
    "# Your code here\n"
   ]
  },
  {
   "cell_type": "markdown",
   "metadata": {},
   "source": [
    "---\n",
    "\n",
    "## Section 5: Sets\n",
    "\n",
    "### Easy Questions"
   ]
  },
  {
   "cell_type": "markdown",
   "metadata": {},
   "source": [
    "**Question 5.1:** Create sets for:\n",
    "- Primary colors: {\"red\", \"blue\", \"yellow\"}\n",
    "- A set of unique numbers from the list [1, 2, 2, 3, 3, 3, 4]\n",
    "- An empty set"
   ]
  },
  {
   "cell_type": "code",
   "execution_count": null,
   "metadata": {},
   "outputs": [],
   "source": [
    "# Your code here\n"
   ]
  },
  {
   "cell_type": "markdown",
   "metadata": {},
   "source": [
    "**Question 5.2:** Given a list of customer purchases:\n",
    "```python\n",
    "purchases = [\"apple\", \"banana\", \"apple\", \"orange\", \"banana\", \"apple\"]\n",
    "```\n",
    "- Find all unique products purchased\n",
    "- Count how many different products were bought\n",
    "- Add \"grape\" to the unique products"
   ]
  },
  {
   "cell_type": "code",
   "execution_count": null,
   "metadata": {},
   "outputs": [],
   "source": [
    "purchases = [\"apple\", \"banana\", \"apple\", \"orange\", \"banana\", \"apple\"]\n",
    "\n",
    "# Your code here\n"
   ]
  },
  {
   "cell_type": "markdown",
   "metadata": {},
   "source": [
    "### Medium Questions"
   ]
  },
  {
   "cell_type": "markdown",
   "metadata": {},
   "source": [
    "**Question 5.3:** Skills analysis:\n",
    "```python\n",
    "team_a = {\"Python\", \"SQL\", \"Excel\", \"Tableau\"}\n",
    "team_b = {\"Python\", \"R\", \"SQL\", \"PowerBI\"}\n",
    "required = {\"Python\", \"SQL\", \"Machine Learning\"}\n",
    "```\n",
    "\n",
    "Find:\n",
    "- Skills common to both teams\n",
    "- All skills across both teams\n",
    "- Skills unique to team A\n",
    "- Skills missing from both teams (that are required)"
   ]
  },
  {
   "cell_type": "code",
   "execution_count": null,
   "metadata": {},
   "outputs": [],
   "source": [
    "team_a = {\"Python\", \"SQL\", \"Excel\", \"Tableau\"}\n",
    "team_b = {\"Python\", \"R\", \"SQL\", \"PowerBI\"}\n",
    "required = {\"Python\", \"SQL\", \"Machine Learning\"}\n",
    "\n",
    "# Hint: Use intersection(), union(), difference()\n",
    "# Your code here\n"
   ]
  },
  {
   "cell_type": "markdown",
   "metadata": {},
   "source": [
    "### Hard Questions"
   ]
  },
  {
   "cell_type": "markdown",
   "metadata": {},
   "source": [
    "**Question 5.4:** Customer behavior analysis:\n",
    "```python\n",
    "online_customers = {\"C001\", \"C002\", \"C003\", \"C004\", \"C005\", \"C006\"}\n",
    "store_customers = {\"C002\", \"C004\", \"C006\", \"C007\", \"C008\"}\n",
    "vip_customers = {\"C001\", \"C004\", \"C007\"}\n",
    "```\n",
    "\n",
    "Analyze:\n",
    "- Customers who shop both online and in-store\n",
    "- Customers who shop exclusively online\n",
    "- VIP customers who only shop in-store\n",
    "- Total unique customers across all channels\n",
    "- What percentage of total customers are VIP?"
   ]
  },
  {
   "cell_type": "code",
   "execution_count": null,
   "metadata": {},
   "outputs": [],
   "source": [
    "online_customers = {\"C001\", \"C002\", \"C003\", \"C004\", \"C005\", \"C006\"}\n",
    "store_customers = {\"C002\", \"C004\", \"C006\", \"C007\", \"C008\"}\n",
    "vip_customers = {\"C001\", \"C004\", \"C007\"}\n",
    "\n",
    "# Your code here\n"
   ]
  },
  {
   "cell_type": "markdown",
   "metadata": {},
   "source": [
    "---\n",
    "\n",
    "## Section 6: Ranges \n",
    "\n",
    "### Easy Questions"
   ]
  },
  {
   "cell_type": "markdown",
   "metadata": {},
   "source": [
    "**Question 6.1:** Create ranges for:\n",
    "- Numbers 0 to 9\n",
    "- Numbers 5 to 15\n",
    "- Even numbers from 0 to 20\n",
    "\n",
    "Convert each to a list to see the values."
   ]
  },
  {
   "cell_type": "code",
   "execution_count": null,
   "metadata": {},
   "outputs": [],
   "source": [
    "# Your code here\n"
   ]
  },
  {
   "cell_type": "markdown",
   "metadata": {},
   "source": [
    "### Medium Questions"
   ]
  },
  {
   "cell_type": "markdown",
   "metadata": {},
   "source": [
    "**Question 6.2:** Use ranges to create:\n",
    "- Years from 2020 to 2024\n",
    "- Multiples of 5 from 0 to 50\n",
    "- A countdown from 10 to 1\n",
    "- Temperature readings every 5 degrees from -10 to 30"
   ]
  },
  {
   "cell_type": "code",
   "execution_count": null,
   "metadata": {},
   "outputs": [],
   "source": [
    "# Hint: Use different step values\n",
    "# Your code here\n"
   ]
  },
  {
   "cell_type": "markdown",
   "metadata": {},
   "source": [
    "### Hard Questions"
   ]
  },
  {
   "cell_type": "markdown",
   "metadata": {},
   "source": [
    "**Question 6.3:** Data processing simulation:\n",
    "You have 1,000,000 records to process in batches of 1000.\n",
    "- Create the batch ranges (start positions)\n",
    "- Calculate how many batches there will be\n",
    "- Show the start and end position for the first 5 batches\n",
    "- Show the start and end position for the last batch"
   ]
  },
  {
   "cell_type": "code",
   "execution_count": null,
   "metadata": {},
   "outputs": [],
   "source": [
    "total_records = 1000000\n",
    "batch_size = 1000\n",
    "\n",
    "# Your code here\n"
   ]
  },
  {
   "cell_type": "markdown",
   "metadata": {},
   "source": [
    "---\n",
    "\n",
    "## Section 7: Indexing and Slicing\n",
    "\n",
    "### Easy Questions"
   ]
  },
  {
   "cell_type": "markdown",
   "metadata": {},
   "source": [
    "**Question 7.1:** Given the list:\n",
    "```python\n",
    "letters = ['a', 'b', 'c', 'd', 'e', 'f', 'g', 'h']\n",
    "```\n",
    "Access:\n",
    "- The first letter\n",
    "- The last letter\n",
    "- The third letter\n",
    "- The second to last letter"
   ]
  },
  {
   "cell_type": "code",
   "execution_count": null,
   "metadata": {},
   "outputs": [],
   "source": [
    "letters = ['a', 'b', 'c', 'd', 'e', 'f', 'g', 'h']\n",
    "\n",
    "# Your code here\n"
   ]
  },
  {
   "cell_type": "markdown",
   "metadata": {},
   "source": [
    "### Medium Questions"
   ]
  },
  {
   "cell_type": "markdown",
   "metadata": {},
   "source": [
    "**Question 7.2:** String and list slicing:\n",
    "```python\n",
    "text = \"Python Programming\"\n",
    "numbers = [0, 1, 2, 3, 4, 5, 6, 7, 8, 9]\n",
    "```\n",
    "Extract:\n",
    "- The word \"Python\" from text\n",
    "- The word \"Programming\" from text\n",
    "- Every other letter from text\n",
    "- The first half of the numbers list\n",
    "- The last 3 numbers\n",
    "- Every other number starting from 1"
   ]
  },
  {
   "cell_type": "code",
   "execution_count": null,
   "metadata": {},
   "outputs": [],
   "source": [
    "text = \"Python Programming\"\n",
    "numbers = [0, 1, 2, 3, 4, 5, 6, 7, 8, 9]\n",
    "\n",
    "# Your code here\n"
   ]
  },
  {
   "cell_type": "markdown",
   "metadata": {},
   "source": [
    "### Hard Questions"
   ]
  },
  {
   "cell_type": "markdown",
   "metadata": {},
   "source": [
    "**Question 7.3:** Advanced slicing with data analysis:\n",
    "```python\n",
    "hourly_data = [120, 135, 142, 128, 156, 189, 201, 245, 289, 312, 298, 276,\n",
    "               254, 231, 198, 176, 154, 143, 136, 128, 122, 118, 115, 112]\n",
    "```\n",
    "This represents website visitors for each hour of the day (0-23).\n",
    "\n",
    "Extract and analyze:\n",
    "- Morning traffic (6 AM - 12 PM)\n",
    "- Afternoon traffic (12 PM - 6 PM)\n",
    "- Evening traffic (6 PM - 12 AM)\n",
    "- Peak hour and its value\n",
    "- Compare average traffic: morning vs afternoon vs evening"
   ]
  },
  {
   "cell_type": "code",
   "execution_count": null,
   "metadata": {},
   "outputs": [],
   "source": [
    "hourly_data = [120, 135, 142, 128, 156, 189, 201, 245, 289, 312, 298, 276,\n",
    "               254, 231, 198, 176, 154, 143, 136, 128, 122, 118, 115, 112]\n",
    "\n",
    "# Hint: 6 AM is index 6, 12 PM is index 12, etc.\n",
    "# Your code here\n"
   ]
  },
  {
   "cell_type": "markdown",
   "metadata": {},
   "source": [
    "---\n",
    "\n",
    "## Section 8: Combining Data Structures\n",
    "\n",
    "### Medium Questions"
   ]
  },
  {
   "cell_type": "markdown",
   "metadata": {},
   "source": [
    "**Question 8.1:** Customer order analysis:\n",
    "```python\n",
    "order_ids = [\"ORD001\", \"ORD002\", \"ORD003\", \"ORD004\", \"ORD005\"]\n",
    "products = [\"Laptop\", \"Mouse\", \"Laptop\", \"Keyboard\", \"Mouse\"]\n",
    "quantities = [1, 2, 1, 1, 3]\n",
    "prices = [999, 25, 999, 50, 25]\n",
    "```\n",
    "\n",
    "Create:\n",
    "- A list of tuples with (order_id, product, quantity, price)\n",
    "- Calculate total revenue\n",
    "- Find unique products sold\n",
    "- Count total items sold"
   ]
  },
  {
   "cell_type": "code",
   "execution_count": null,
   "metadata": {},
   "outputs": [],
   "source": [
    "order_ids = [\"ORD001\", \"ORD002\", \"ORD003\", \"ORD004\", \"ORD005\"]\n",
    "products = [\"Laptop\", \"Mouse\", \"Laptop\", \"Keyboard\", \"Mouse\"]\n",
    "quantities = [1, 2, 1, 1, 3]\n",
    "prices = [999, 25, 999, 50, 25]\n",
    "\n",
    "# Your code here\n"
   ]
  },
  {
   "cell_type": "markdown",
   "metadata": {},
   "source": [
    "### Hard Questions"
   ]
  },
  {
   "cell_type": "markdown",
   "metadata": {},
   "source": [
    "**Question 8.2:** Comprehensive data analysis:\n",
    "```python\n",
    "# Student records: (name, age, major, gpa, courses)\n",
    "students = [\n",
    "    (\"Alice\", 20, \"CS\", 3.8, [\"Python\", \"Data Structures\", \"Calculus\"]),\n",
    "    (\"Bob\", 21, \"Math\", 3.6, [\"Calculus\", \"Statistics\", \"Linear Algebra\"]),\n",
    "    (\"Carol\", 19, \"CS\", 3.9, [\"Python\", \"Algorithms\", \"Calculus\"]),\n",
    "    (\"David\", 22, \"Physics\", 3.7, [\"Calculus\", \"Mechanics\", \"Python\"]),\n",
    "    (\"Eve\", 20, \"CS\", 3.5, [\"Java\", \"Data Structures\", \"Statistics\"])\n",
    "]\n",
    "```\n",
    "\n",
    "Analyze:\n",
    "- All unique courses offered\n",
    "- Students in CS major\n",
    "- Average GPA by major\n",
    "- Most popular course (appears in most student schedules)\n",
    "- Students taking both \"Python\" and \"Calculus\"\n",
    "- Create a set of all CS courses (courses taken by CS students)"
   ]
  },
  {
   "cell_type": "code",
   "execution_count": null,
   "metadata": {},
   "outputs": [],
   "source": [
    "students = [\n",
    "    (\"Alice\", 20, \"CS\", 3.8, [\"Python\", \"Data Structures\", \"Calculus\"]),\n",
    "    (\"Bob\", 21, \"Math\", 3.6, [\"Calculus\", \"Statistics\", \"Linear Algebra\"]),\n",
    "    (\"Carol\", 19, \"CS\", 3.9, [\"Python\", \"Algorithms\", \"Calculus\"]),\n",
    "    (\"David\", 22, \"Physics\", 3.7, [\"Calculus\", \"Mechanics\", \"Python\"]),\n",
    "    (\"Eve\", 20, \"CS\", 3.5, [\"Java\", \"Data Structures\", \"Statistics\"])\n",
    "]\n",
    "\n",
    "# Your code here\n"
   ]
  },
  {
   "cell_type": "markdown",
   "metadata": {},
   "source": [
    "---\n",
    "\n",
    "## Bonus Challenge: Real-World Data Analysis\n",
    "\n",
    "**Sales Dashboard Creation:**\n",
    "\n",
    "You're given sales data for a small retail store:\n",
    "```python\n",
    "# Daily sales for 30 days\n",
    "daily_sales = [1200, 1350, 980, 1450, 1680, 1590, 1750,\n",
    "               2100, 2250, 1980, 2150, 2400, 2350, 2500,\n",
    "               1850, 1920, 1750, 1680, 1890, 1950, 2100,\n",
    "               2300, 2450, 2380, 2500, 2650, 2700, 2850,\n",
    "               2900, 3100]\n",
    "\n",
    "# Product categories sold each day (some products appear multiple times)\n",
    "products_sold = [\n",
    "    [\"Electronics\", \"Clothing\", \"Electronics\", \"Food\"],\n",
    "    [\"Clothing\", \"Food\", \"Toys\"],\n",
    "    [\"Electronics\", \"Electronics\", \"Clothing\"],\n",
    "    # ... assume similar data for all 30 days\n",
    "]\n",
    "```\n",
    "\n",
    "Create a comprehensive analysis including:\n",
    "1. Weekly sales totals\n",
    "2. Best and worst performing days\n",
    "3. Sales growth from week 1 to week 4\n",
    "4. Moving 7-day average\n",
    "5. Days that exceeded the monthly average\n",
    "6. Create visual representation using text (like bar charts with asterisks)"
   ]
  },
  {
   "cell_type": "code",
   "execution_count": null,
   "metadata": {},
   "outputs": [],
   "source": [
    "daily_sales = [1200, 1350, 980, 1450, 1680, 1590, 1750,\n",
    "               2100, 2250, 1980, 2150, 2400, 2350, 2500,\n",
    "               1850, 1920, 1750, 1680, 1890, 1950, 2100,\n",
    "               2300, 2450, 2380, 2500, 2650, 2700, 2850,\n",
    "               2900, 3100]\n",
    "\n",
    "# Your comprehensive analysis here\n"
   ]
  }
 ],
 "metadata": {
  "kernelspec": {
   "display_name": "Python [conda env:base] *",
   "language": "python",
   "name": "conda-base-py"
  },
  "language_info": {
   "codemirror_mode": {
    "name": "ipython",
    "version": 3
   },
   "file_extension": ".py",
   "mimetype": "text/x-python",
   "name": "python",
   "nbconvert_exporter": "python",
   "pygments_lexer": "ipython3",
   "version": "3.12.7"
  }
 },
 "nbformat": 4,
 "nbformat_minor": 4
}
