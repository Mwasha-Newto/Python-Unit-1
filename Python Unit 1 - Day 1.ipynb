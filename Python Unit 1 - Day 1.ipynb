{
 "cells": [
  {
   "cell_type": "markdown",
   "id": "notebook-title",
   "metadata": {},
   "source": [
    "# Day 1: Introduction to Python – Python Basics & Core Data Structures\n",
    "\n",
    "Python is one of the most popular programming languages in data science, known for its readability, versatility, and extensive ecosystem of libraries. Today's lesson provides a hands-on introduction to Python fundamentals, covering basic syntax, variable operations, and Python's core data structures. By the end of this session, you'll be comfortable with Python's basic building blocks and ready to tackle more advanced concepts in data manipulation and analysis.\n",
    "\n",
    "---"
   ]
  },
  {
   "cell_type": "markdown",
   "id": "section1-header",
   "metadata": {},
   "source": [
    "## Section 1: Getting Started with Python\n",
    "\n",
    "### What are REPL and Jupyter Notebooks?\n",
    "\n",
    "Before we dive into Python, let's understand the tools we'll be using:\n",
    "\n",
    "**REPL (Read-Eval-Print Loop)**: This is Python's interactive shell where you can type Python commands and see immediate results. You access it by typing `python` in your terminal. It reads your input, evaluates it, prints the result, and loops back for more input.\n",
    "\n",
    "**Jupyter Notebooks**: These are interactive documents that combine code, text, and visualizations in a single interface. Each \"cell\" can contain either code (which you can run) or formatted text (like this explanation). Jupyter notebooks are perfect for data science because they let you experiment, document your process, and share results all in one place.\n",
    "\n",
    "### Objectives\n",
    "- Launch and interact with Python through REPL or Jupyter notebooks\n",
    "- Execute basic Python statements\n",
    "- Understand Python's interactive nature and immediate feedback"
   ]
  },
  {
   "cell_type": "markdown",
   "id": "hello-python",
   "metadata": {},
   "source": [
    "### 1.1 Hello, Python!\n",
    "\n",
    "Let's start with the traditional first program in any programming language:"
   ]
  },
  {
   "cell_type": "code",
   "execution_count": 1,
   "id": "hello-world",
   "metadata": {},
   "outputs": [
    {
     "name": "stdout",
     "output_type": "stream",
     "text": [
      "Hello, World!\n"
     ]
    }
   ],
   "source": [
    "print(\"Hello, World!\")"
   ]
  },
  {
   "cell_type": "markdown",
   "id": "print-explanation",
   "metadata": {},
   "source": [
    "The `print()` function displays output to the screen. It's one of Python's built-in functions that you'll use frequently for debugging and displaying results."
   ]
  },
  {
   "cell_type": "code",
   "execution_count": 2,
   "id": "multiple-prints",
   "metadata": {},
   "outputs": [
    {
     "name": "stdout",
     "output_type": "stream",
     "text": [
      "Welcome to Python!\n",
      "Let's learn data science together\n"
     ]
    }
   ],
   "source": [
    "print(\"Welcome to Python!\")\n",
    "print(\"Let's learn data science together\")"
   ]
  },
  {
   "cell_type": "markdown",
   "id": "calculator-header",
   "metadata": {},
   "source": [
    "### 1.2 Python as a Calculator\n",
    "\n",
    "Python excels at mathematical operations. Let's explore the basic arithmetic operators:"
   ]
  },
  {
   "cell_type": "code",
   "execution_count": 3,
   "id": "basic-arithmetic",
   "metadata": {},
   "outputs": [
    {
     "data": {
      "text/plain": [
       "8"
      ]
     },
     "execution_count": 3,
     "metadata": {},
     "output_type": "execute_result"
    }
   ],
   "source": [
    "# Addition - combines values together\n",
    "# Useful for: totals, sums, combining quantities\n",
    "\n",
    "5 + 3"
   ]
  },
  {
   "cell_type": "code",
   "execution_count": 4,
   "id": "subtraction",
   "metadata": {},
   "outputs": [
    {
     "data": {
      "text/plain": [
       "6"
      ]
     },
     "execution_count": 4,
     "metadata": {},
     "output_type": "execute_result"
    }
   ],
   "source": [
    "# Subtraction - finds the difference between values\n",
    "# Useful for: calculating change, finding gaps, determining profit/loss\n",
    "\n",
    "10 - 4"
   ]
  },
  {
   "cell_type": "code",
   "execution_count": 5,
   "id": "multiplication",
   "metadata": {},
   "outputs": [
    {
     "data": {
      "text/plain": [
       "42"
      ]
     },
     "execution_count": 5,
     "metadata": {},
     "output_type": "execute_result"
    }
   ],
   "source": [
    "# Multiplication - scales values up\n",
    "# Useful for: calculating totals from unit prices, scaling data, area calculations\n",
    "\n",
    "7 * 6"
   ]
  },
  {
   "cell_type": "code",
   "execution_count": 6,
   "id": "division",
   "metadata": {},
   "outputs": [
    {
     "data": {
      "text/plain": [
       "3.75"
      ]
     },
     "execution_count": 6,
     "metadata": {},
     "output_type": "execute_result"
    }
   ],
   "source": [
    "# Division - splits values into equal parts (always returns a decimal/float)\n",
    "# Useful for: calculating averages, rates, proportions\n",
    "\n",
    "15 / 4"
   ]
  },
  {
   "cell_type": "code",
   "execution_count": 7,
   "id": "floor-division",
   "metadata": {},
   "outputs": [
    {
     "data": {
      "text/plain": [
       "3"
      ]
     },
     "execution_count": 7,
     "metadata": {},
     "output_type": "execute_result"
    }
   ],
   "source": [
    "# Floor division - division that rounds down to nearest whole number\n",
    "# Useful for: grouping items, pagination, finding complete sets\n",
    "\n",
    "15 // 4  # \"How many complete groups of 4 can I make from 15?\""
   ]
  },
  {
   "cell_type": "code",
   "execution_count": 8,
   "id": "exponentiation",
   "metadata": {},
   "outputs": [
    {
     "data": {
      "text/plain": [
       "8"
      ]
     },
     "execution_count": 8,
     "metadata": {},
     "output_type": "execute_result"
    }
   ],
   "source": [
    "# Exponentiation - raises a number to a power\n",
    "# Useful for: compound interest, exponential growth, statistical calculations\n",
    "\n",
    "2 ** 3  # \"2 to the power of 3\" = 2 × 2 × 2"
   ]
  },
  {
   "cell_type": "code",
   "execution_count": 9,
   "id": "modulo",
   "metadata": {},
   "outputs": [
    {
     "data": {
      "text/plain": [
       "2"
      ]
     },
     "execution_count": 9,
     "metadata": {},
     "output_type": "execute_result"
    }
   ],
   "source": [
    "# Modulo - finds the remainder after division\n",
    "# Useful for: checking if numbers are even/odd, cycling through options, finding patterns\n",
    "\n",
    "17 % 5  # \"What's left over when 17 is divided by 5?\""
   ]
  },
  {
   "cell_type": "markdown",
   "id": "complex-calc",
   "metadata": {},
   "source": [
    "You can combine operations and use parentheses to control order:"
   ]
  },
  {
   "cell_type": "code",
   "execution_count": 10,
   "id": "complex-calculation",
   "metadata": {},
   "outputs": [
    {
     "name": "stdout",
     "output_type": "stream",
     "text": [
      "30.0\n"
     ]
    }
   ],
   "source": [
    "# Complex calculations\n",
    "result = (10 + 5) * 2 ** 3 / 4\n",
    "print(result)"
   ]
  },
  {
   "cell_type": "markdown",
   "id": "63ab427e-dde9-43a2-bf2d-42780d402ba4",
   "metadata": {},
   "source": [
    "### 📝 Concept Introduction: String Formatting\n",
    "\n",
    "The line `f\"Total daily sales: ${total_daily_sales}\"` uses an **f-string** (formatted string literal) - Python's modern way to combine text with variables and calculations in a single, readable line.\n",
    "\n",
    "The `f` before the quotes tells Python to look inside the string for any `{}` placeholders and replace them with actual values. This means you can write your output exactly as you want it to appear, with Python handling all the technical details like converting numbers to text and applying formatting.\n",
    "\n",
    "F-strings solve a fundamental challenge in data analysis: presenting numbers professionally. Instead of manually converting each value and joining pieces together, you write one clean line that's both readable in your code and polished in your output. They even let you format numbers with commas, control decimal places, and show percentages - all inside the string itself.\n",
    "\n",
    "Let's see why f-strings have become the standard for Python output:"
   ]
  },
  {
   "cell_type": "code",
   "execution_count": 11,
   "id": "93373d29-6127-4feb-85a4-1a84889be2e0",
   "metadata": {},
   "outputs": [
    {
     "name": "stdout",
     "output_type": "stream",
     "text": [
      "=== Method 3: F-strings (Recommended) ===\n",
      "Price: $29.99, Quantity: 3\n",
      "Total cost: $89.97\n"
     ]
    }
   ],
   "source": [
    "price = 29.99\n",
    "quantity = 3\n",
    "\n",
    "# Method 3: F-strings (elegant and powerful!)\n",
    "print(\"=== Method 3: F-strings (Recommended) ===\")\n",
    "print(f\"Price: ${price}, Quantity: {quantity}\")\n",
    "print(f\"Total cost: ${price * quantity}\")"
   ]
  },
  {
   "cell_type": "markdown",
   "id": "b087e565-f0f6-4486-95ef-2ff26ff3e4ce",
   "metadata": {},
   "source": [
    "**💡 Why f-strings?**\n",
    "- **Readable**: Your code looks like the output you want\n",
    "- **Flexible**: You can put expressions inside `{}`\n",
    "- **Efficient**: Faster than other formatting methods\n",
    "\n",
    "From now on, we'll use f-strings for clear, professional output!"
   ]
  },
  {
   "cell_type": "markdown",
   "id": "section2-header",
   "metadata": {},
   "source": [
    "---\n",
    "\n",
    "## Section 2: Variables and Data Types\n",
    "\n",
    "### Objectives\n",
    "- Create and assign variables in Python\n",
    "- Understand Python's main data types (int, float, str, bool)\n",
    "- Inspect variable types and perform type-specific operations\n",
    "- Combine variables in expressions and comparisons"
   ]
  },
  {
   "cell_type": "markdown",
   "id": "variable-assignment-header",
   "metadata": {},
   "source": [
    "### 2.1 Variable Assignment\n",
    "\n",
    "Variables in Python are created by assignment. Python automatically determines the data type based on the value you assign:"
   ]
  },
  {
   "cell_type": "code",
   "execution_count": 12,
   "id": "integer-examples",
   "metadata": {},
   "outputs": [
    {
     "name": "stdout",
     "output_type": "stream",
     "text": [
      "Integer examples:\n",
      "Age: 25\n",
      "Temperature: -5°C\n",
      "Year: 2024\n",
      "Population: 1,000,000\n"
     ]
    }
   ],
   "source": [
    "# Integers - whole numbers (positive, negative, or zero)\n",
    "age = 25\n",
    "temperature = -5\n",
    "year = 2024\n",
    "population = 1000000\n",
    "\n",
    "print(\"Integer examples:\")\n",
    "print(f\"Age: {age}\")\n",
    "print(f\"Temperature: {temperature}°C\")\n",
    "print(f\"Year: {year}\")\n",
    "print(f\"Population: {population:,}\")  # :, adds commas for readability"
   ]
  },
  {
   "cell_type": "code",
   "execution_count": 13,
   "id": "float-examples",
   "metadata": {},
   "outputs": [
    {
     "name": "stdout",
     "output_type": "stream",
     "text": [
      "Float examples:\n",
      "Height: 5.9 feet\n",
      "Price: $29.99\n",
      "Pi (rounded): 3.14\n",
      "Interest rate: 4.5%\n"
     ]
    }
   ],
   "source": [
    "# Floats - numbers with decimal points\n",
    "height = 5.9\n",
    "price = 29.99\n",
    "pi = 3.14159\n",
    "interest_rate = 0.045  # 4.5%\n",
    "\n",
    "print(\"Float examples:\")\n",
    "print(f\"Height: {height} feet\")\n",
    "print(f\"Price: ${price}\")\n",
    "print(f\"Pi (rounded): {pi:.2f}\")  # :.2f rounds to 2 decimal places\n",
    "print(f\"Interest rate: {interest_rate:.1%}\")  # :.1% converts to percentage"
   ]
  },
  {
   "cell_type": "code",
   "execution_count": 14,
   "id": "string-examples",
   "metadata": {},
   "outputs": [
    {
     "name": "stdout",
     "output_type": "stream",
     "text": [
      "String examples:\n",
      "Name: Alice Johnson\n",
      "City: New York\n",
      "Product code: ABC123\n",
      "Email: alice@company.com\n"
     ]
    }
   ],
   "source": [
    "# Strings - text data enclosed in quotes\n",
    "name = \"Alice Johnson\"\n",
    "city = \"New York\"\n",
    "product_code = \"ABC123\"\n",
    "email = \"alice@company.com\"\n",
    "\n",
    "print(\"String examples:\")\n",
    "print(f\"Name: {name}\")\n",
    "print(f\"City: {city}\")\n",
    "print(f\"Product code: {product_code}\")\n",
    "print(f\"Email: {email}\")"
   ]
  },
  {
   "cell_type": "code",
   "execution_count": 15,
   "id": "boolean-examples",
   "metadata": {},
   "outputs": [
    {
     "name": "stdout",
     "output_type": "stream",
     "text": [
      "Boolean examples:\n",
      "Is student: True\n",
      "Has license: False\n",
      "Premium user: True\n",
      "Sale active: False\n"
     ]
    }
   ],
   "source": [
    "# Booleans - True or False values\n",
    "is_student = True\n",
    "has_license = False\n",
    "is_premium_user = True\n",
    "is_sale_active = False\n",
    "\n",
    "print(\"Boolean examples:\")\n",
    "print(f\"Is student: {is_student}\")\n",
    "print(f\"Has license: {has_license}\")\n",
    "print(f\"Premium user: {is_premium_user}\")\n",
    "print(f\"Sale active: {is_sale_active}\")"
   ]
  },
  {
   "cell_type": "markdown",
   "id": "operator-examples",
   "metadata": {},
   "source": [
    "**Real-world examples of these operators and variable assignmentin data analysis:**"
   ]
  },
  {
   "cell_type": "code",
   "execution_count": 16,
   "id": "real-world-operators",
   "metadata": {},
   "outputs": [
    {
     "name": "stdout",
     "output_type": "stream",
     "text": [
      "Total sales: $56000\n",
      "Average monthly sales: $14000.0\n",
      "Annual projection: $168000.0\n",
      "After 12 months of 5% growth: 1.80x original\n",
      "Remainder when dividing total by 1000: $0\n"
     ]
    }
   ],
   "source": [
    "# Business calculations using different operators\n",
    "monthly_sales = [12000, 15000, 11000, 18000]\n",
    "\n",
    "# Addition: Total sales\n",
    "total_sales = 12000 + 15000 + 11000 + 18000\n",
    "print(f\"Total sales: ${total_sales}\")\n",
    "\n",
    "# Division: Average sales\n",
    "average_sales = total_sales / 4\n",
    "print(f\"Average monthly sales: ${average_sales}\")\n",
    "\n",
    "# Multiplication: Annual projection\n",
    "annual_projection = average_sales * 12\n",
    "print(f\"Annual projection: ${annual_projection}\")\n",
    "\n",
    "# Exponentiation: Compound growth (5% per month)\n",
    "growth_factor = 1.05 ** 12  # 5% growth for 12 months\n",
    "print(f\"After 12 months of 5% growth: {growth_factor:.2f}x original\")\n",
    "\n",
    "# Modulo: Check if total is divisible by 1000\n",
    "remainder = total_sales % 1000\n",
    "print(f\"Remainder when dividing total by 1000: ${remainder}\")"
   ]
  },
  {
   "cell_type": "markdown",
   "id": "inspecting-types-header",
   "metadata": {},
   "source": [
    "### 2.2 Inspecting Types\n",
    "\n",
    "Use the `type()` function to check what type of data a variable contains. This is crucial for understanding how Python will handle your data:"
   ]
  },
  {
   "cell_type": "code",
   "execution_count": 17,
   "id": "type-inspection",
   "metadata": {},
   "outputs": [
    {
     "name": "stdout",
     "output_type": "stream",
     "text": [
      "type(age): <class 'int'>\n",
      "type(height): <class 'float'>\n",
      "type(name): <class 'str'>\n",
      "type(is_student): <class 'bool'>\n",
      "type(10.0): <class 'float'>\n",
      "type(1e6): <class 'float'>\n"
     ]
    }
   ],
   "source": [
    "print(f\"type(age): {type(age)}\")              # <class 'int'>\n",
    "print(f\"type(height): {type(height)}\")        # <class 'float'>\n",
    "print(f\"type(name): {type(name)}\")            # <class 'str'>\n",
    "print(f\"type(is_student): {type(is_student)}\") # <class 'bool'>\n",
    "\n",
    "# Let's see what happens with different number formats\n",
    "whole_as_float = 10.0\n",
    "scientific = 1e6  # Scientific notation for 1,000,000\n",
    "print(f\"type(10.0): {type(whole_as_float)}\")\n",
    "print(f\"type(1e6): {type(scientific)}\")"
   ]
  },
  {
   "cell_type": "markdown",
   "id": "breadcrumb-1",
   "metadata": {},
   "source": [
    "🍞 **Data Analytics Breadcrumb #1: Understanding Data Types**\n",
    "\n",
    "Why does data type matter? In data analytics, the type of your data determines what operations you can perform:\n",
    "- **Integers & Floats**: Can be used for mathematical calculations, statistical analysis, and visualizations\n",
    "- **Strings**: Need special handling for text analysis, cleaning, and categorization\n",
    "- **Booleans**: Perfect for filtering data, creating conditions, and logical operations\n",
    "\n",
    "When you load a dataset later, Python will automatically assign types to your columns, but sometimes you'll need to convert them (e.g., turning \"25\" into 25 for calculations)."
   ]
  },
  {
   "cell_type": "markdown",
   "id": "variable-operations-header",
   "metadata": {},
   "source": [
    "### 2.3 Data Type Operations\n",
    "\n",
    "Different data types support different operations. Understanding these operations is crucial for data manipulation:\n",
    "\n",
    "Variables can be combined in expressions and operations:"
   ]
  },
  {
   "cell_type": "code",
   "execution_count": 18,
   "id": "numeric-operations",
   "metadata": {},
   "outputs": [
    {
     "name": "stdout",
     "output_type": "stream",
     "text": [
      "Numeric Operations:\n",
      "Base salary: $50,000\n",
      "Bonus (15%): $7,500\n",
      "Total compensation: $57,500\n",
      "Experience-adjusted salary: $57,500\n"
     ]
    }
   ],
   "source": [
    "# Numeric operations (int and float)\n",
    "base_salary = 50000\n",
    "bonus_rate = 0.15\n",
    "years_experience = 3\n",
    "\n",
    "# Mathematical operations\n",
    "annual_bonus = base_salary * bonus_rate\n",
    "total_compensation = base_salary + annual_bonus\n",
    "experience_multiplier = 1 + (years_experience * 0.05)  # 5% per year\n",
    "adjusted_salary = base_salary * experience_multiplier\n",
    "\n",
    "print(\"Numeric Operations:\")\n",
    "print(f\"Base salary: ${base_salary:,}\")\n",
    "print(f\"Bonus ({bonus_rate:.0%}): ${annual_bonus:,.0f}\")\n",
    "print(f\"Total compensation: ${total_compensation:,.0f}\")\n",
    "print(f\"Experience-adjusted salary: ${adjusted_salary:,.0f}\")"
   ]
  },
  {
   "cell_type": "code",
   "execution_count": 19,
   "id": "string-operations",
   "metadata": {},
   "outputs": [
    {
     "name": "stdout",
     "output_type": "stream",
     "text": [
      "String Operations:\n",
      "Full name: Alice Johnson\n",
      "Email username: alice.johnson\n",
      "Employee ID: DATASCIENCE001\n",
      "\n",
      "String methods:\n",
      "Uppercase name: ALICE JOHNSON\n",
      "Name length: 13 characters\n",
      "Starts with 'Alice': True\n"
     ]
    }
   ],
   "source": [
    "# String operations\n",
    "first_name = \"Alice\"\n",
    "last_name = \"Johnson\"\n",
    "department = \"Data Science\"\n",
    "company = \"TechCorp\"\n",
    "\n",
    "# String concatenation (joining strings)\n",
    "full_name = first_name + \" \" + last_name\n",
    "email_username = first_name.lower() + \".\" + last_name.lower()\n",
    "employee_id = department.replace(\" \", \"\").upper() + \"001\"\n",
    "\n",
    "print(\"String Operations:\")\n",
    "print(f\"Full name: {full_name}\")\n",
    "print(f\"Email username: {email_username}\")\n",
    "print(f\"Employee ID: {employee_id}\")\n",
    "\n",
    "# String methods\n",
    "print(f\"\\nString methods:\")\n",
    "print(f\"Uppercase name: {full_name.upper()}\")\n",
    "print(f\"Name length: {len(full_name)} characters\")\n",
    "print(f\"Starts with 'Alice': {full_name.startswith('Alice')}\")"
   ]
  },
  {
   "cell_type": "code",
   "execution_count": 20,
   "id": "type-conversion",
   "metadata": {},
   "outputs": [
    {
     "name": "stdout",
     "output_type": "stream",
     "text": [
      "Type Conversion:\n",
      "Original: '85.5' (type: <class 'str'>)\n",
      "Converted: 85.5 (type: <class 'float'>)\n",
      "\n",
      "After conversion:\n",
      "Score + 10 = 95.5\n",
      "Quantity × 2 = 200\n",
      "Message: Your score is 95.5 points\n"
     ]
    }
   ],
   "source": [
    "# Type conversion - changing one type to another\n",
    "score_text = \"85.5\"  # This is a string, not a number\n",
    "quantity_text = \"100\"\n",
    "\n",
    "# Convert strings to numbers for calculations\n",
    "score_number = float(score_text)\n",
    "quantity_number = int(quantity_text)\n",
    "\n",
    "print(\"Type Conversion:\")\n",
    "print(f\"Original: '{score_text}' (type: {type(score_text)})\")\n",
    "print(f\"Converted: {score_number} (type: {type(score_number)})\")\n",
    "\n",
    "# Now we can do math!\n",
    "bonus_score = score_number + 10\n",
    "total_items = quantity_number * 2\n",
    "\n",
    "print(f\"\\nAfter conversion:\")\n",
    "print(f\"Score + 10 = {bonus_score}\")\n",
    "print(f\"Quantity × 2 = {total_items}\")\n",
    "\n",
    "# Convert numbers back to strings for display\n",
    "result_message = \"Your score is \" + str(bonus_score) + \" points\"\n",
    "print(f\"Message: {result_message}\")"
   ]
  },
  {
   "cell_type": "code",
   "execution_count": 21,
   "id": "boolean-operations",
   "metadata": {},
   "outputs": [
    {
     "name": "stdout",
     "output_type": "stream",
     "text": [
      "Boolean Operations:\n",
      "Is adult (age >= 18): True\n",
      "High GPA (>= 3.5): True\n",
      "Scholarship eligible (high GPA AND internship): True\n",
      "Needs support (international OR low GPA): False\n",
      "Ideal candidate: True\n"
     ]
    }
   ],
   "source": [
    "# Boolean operations and comparisons\n",
    "student_age = 22\n",
    "gpa = 3.7\n",
    "has_internship = True\n",
    "is_international = False\n",
    "\n",
    "# Comparison operations (these create boolean values)\n",
    "is_adult = student_age >= 18\n",
    "high_gpa = gpa >= 3.5\n",
    "is_young = student_age < 25\n",
    "eligible_for_honors = gpa > 3.8\n",
    "\n",
    "# Logical operations (combining booleans)\n",
    "scholarship_eligible = high_gpa and has_internship\n",
    "needs_support = is_international or gpa < 3.0\n",
    "ideal_candidate = is_adult and high_gpa and has_internship\n",
    "\n",
    "print(\"Boolean Operations:\")\n",
    "print(f\"Is adult (age >= 18): {is_adult}\")\n",
    "print(f\"High GPA (>= 3.5): {high_gpa}\")\n",
    "print(f\"Scholarship eligible (high GPA AND internship): {scholarship_eligible}\")\n",
    "print(f\"Needs support (international OR low GPA): {needs_support}\")\n",
    "print(f\"Ideal candidate: {ideal_candidate}\")"
   ]
  },
  {
   "cell_type": "markdown",
   "id": "section3-header",
   "metadata": {},
   "source": [
    "---\n",
    "\n",
    "## Section 3: Core Data Structures\n",
    "### 🏗️ Building Block: From Single Values to Collections\n",
    "\n",
    "So far, we've worked with individual values. But real data comes in groups:\n",
    "- **Sales figures** for each month\n",
    "- **Customer names** in your database\n",
    "- **Product categories** in your inventory\n",
    "\n",
    "Python provides four main ways to organize collections of data. Let's explore each one!\n",
    "### Why Data Structures Matter\n",
    "\n",
    "Data structures are containers that organize and store collections of data. Each structure has specific characteristics that make it suitable for different tasks:\n",
    "\n",
    "- **Lists**: Ordered, changeable, allow duplicates - perfect for sequences of data\n",
    "- **Tuples**: Ordered, unchangeable, allow duplicates - ideal for fixed records\n",
    "- **Sets**: Unordered, changeable, no duplicates - excellent for unique values and set operations\n",
    "- **Ranges**: Sequences of numbers - memory-efficient for loops and number sequences\n",
    "\n",
    "### Objectives\n",
    "- Create and manipulate lists, tuples, sets, and ranges\n",
    "- Understand when to use each data structure\n",
    "- Practice indexing, slicing, and common operations\n",
    "- Combine different data structures effectively"
   ]
  },
  {
   "cell_type": "markdown",
   "id": "lists-header",
   "metadata": {},
   "source": [
    "### 3.1 Lists\n",
    "\n",
    "Lists are **ordered, mutable (changeable) collections** that can contain different data types. Think of them as containers where order matters and you can modify the contents."
   ]
  },
  {
   "cell_type": "code",
   "execution_count": 22,
   "id": "creating-lists",
   "metadata": {
    "scrolled": true
   },
   "outputs": [
    {
     "name": "stdout",
     "output_type": "stream",
     "text": [
      "Fruits: ['apple', 'banana', 'cherry']\n",
      "Numbers: [1, 2, 3, 4, 5]\n",
      "Mixed data: ['Alice', 25, 5.9, True]\n",
      "Sales data: [1200, 1450, 1100, 1800, 1600]\n"
     ]
    }
   ],
   "source": [
    "# Creating lists\n",
    "fruits = [\"apple\", \"banana\", \"cherry\"]\n",
    "numbers = [1, 2, 3, 4, 5]\n",
    "mixed_data = [\"Alice\", 25, 5.9, True]  # Different data types in one list\n",
    "sales_data = [1200, 1450, 1100, 1800, 1600]  # Sales figures\n",
    "\n",
    "print(f\"Fruits: {fruits}\")\n",
    "print(f\"Numbers: {numbers}\")\n",
    "print(f\"Mixed data: {mixed_data}\")\n",
    "print(f\"Sales data: {sales_data}\")"
   ]
  },
  {
   "cell_type": "code",
   "execution_count": null,
   "id": "f37498c2-8030-4fb1-b75a-af176447d1a3",
   "metadata": {},
   "outputs": [],
   "source": []
  },
  {
   "cell_type": "markdown",
   "id": "d7554795-aac5-4a0c-92da-29361ff53824",
   "metadata": {},
   "source": [
    "### 📍 Accessing List Items - Indexing and Slicing\n",
    "\n",
    "Now that we can store collections of data, we need to access specific items. Python uses **indexing** to get individual items and **slicing** to get ranges of items.\n",
    "\n",
    "#### Understanding List Positions\n",
    "\n",
    "Think of a list as a row of boxes, each with two addresses:\n",
    "- **Positive indices**: Count from the start (0, 1, 2, ...)\n",
    "- **Negative indices**: Count from the end (-1, -2, -3, ...)\n",
    "\n",
    "The first item is always at position 0 (not 1!), and the last item is always at position -1.\n",
    "\n",
    "#### Single Item Access (Indexing)"
   ]
  },
  {
   "cell_type": "code",
   "execution_count": 23,
   "id": "list-indexing",
   "metadata": {},
   "outputs": [
    {
     "name": "stdout",
     "output_type": "stream",
     "text": [
      "=== Our Lists ===\n",
      "Fruits: ['apple', 'banana', 'cherry']\n",
      "Numbers: [1, 2, 3, 4, 5]\n",
      "Mixed data: ['Alice', 25, 5.9, True]\n",
      "Sales data: [1200, 1450, 1100, 1800, 1600]\n",
      "\n",
      "=== Indexing: Getting Single Items ===\n",
      "First fruit [0]: apple\n",
      "Second fruit [1]: banana\n",
      "Last fruit [-1]: cherry\n",
      "Second to last [-2]: banana\n",
      "\n",
      "January sales [0]: $1200\n",
      "Latest month [-1]: $1600\n"
     ]
    }
   ],
   "source": [
    "# Creating lists for our examples\n",
    "fruits = [\"apple\", \"banana\", \"cherry\"]\n",
    "numbers = [1, 2, 3, 4, 5]\n",
    "mixed_data = [\"Alice\", 25, 5.9, True]  # Lists can mix different data types\n",
    "sales_data = [1200, 1450, 1100, 1800, 1600]  # Monthly sales figures\n",
    "\n",
    "# Display our lists\n",
    "print(\"=== Our Lists ===\")\n",
    "print(f\"Fruits: {fruits}\")\n",
    "print(f\"Numbers: {numbers}\")\n",
    "print(f\"Mixed data: {mixed_data}\")\n",
    "print(f\"Sales data: {sales_data}\")\n",
    "print()\n",
    "\n",
    "# Accessing individual items with indexing\n",
    "print(\"=== Indexing: Getting Single Items ===\")\n",
    "\n",
    "# Positive indexing (counting from start)\n",
    "print(f\"First fruit [0]: {fruits[0]}\")      # 'apple' - always starts at 0!\n",
    "print(f\"Second fruit [1]: {fruits[1]}\")     # 'banana'\n",
    "\n",
    "# Negative indexing (counting from end)\n",
    "print(f\"Last fruit [-1]: {fruits[-1]}\")     # 'cherry' - convenient for last item\n",
    "print(f\"Second to last [-2]: {fruits[-2]}\") # 'banana'\n",
    "\n",
    "# Practical example with sales data\n",
    "print(f\"\\nJanuary sales [0]: ${sales_data[0]}\")    # First month\n",
    "print(f\"Latest month [-1]: ${sales_data[-1]}\")     # Last month in our data"
   ]
  },
  {
   "cell_type": "code",
   "execution_count": null,
   "id": "405f47b8-61a3-431f-9ffb-02d41df7e8e7",
   "metadata": {},
   "outputs": [],
   "source": []
  },
  {
   "cell_type": "markdown",
   "id": "99f15080-2e2a-4f6e-baeb-a76462a73c29",
   "metadata": {},
   "source": [
    "#### Multiple Item Access (Slicing)\n",
    "\n",
    "Slicing lets you extract a portion of a list using the syntax `[start:stop:step]`:\n",
    "- **start**: Where to begin (inclusive)\n",
    "- **stop**: Where to end (exclusive - up to but not including)\n",
    "- **step**: How many to skip (optional, defaults to 1)\n",
    "\n",
    "Key insight: The item at the 'stop' position is NOT included!"
   ]
  },
  {
   "cell_type": "code",
   "execution_count": 24,
   "id": "list-slicing",
   "metadata": {
    "scrolled": true
   },
   "outputs": [
    {
     "name": "stdout",
     "output_type": "stream",
     "text": [
      "\n",
      "=== Slicing: Getting Multiple Items ===\n",
      "Numbers: [1, 2, 3, 4, 5]\n",
      "First 3 numbers [0:3]: [1, 2, 3]\n",
      "From index 2 onwards [2:]: [3, 4, 5]\n",
      "Up to index 3 [:3]: [1, 2, 3]\n",
      "Last 3 numbers [-3:]: [3, 4, 5]\n",
      "\n",
      "=== Practical Slicing Example ===\n",
      "Sales data: [1200, 1450, 1100, 1800, 1600]\n",
      "Q1 Sales [0:2]: [1200, 1450] = $2650\n",
      "Q2 Sales [2:4]: [1100, 1800] = $2900\n",
      "Last Quarter [-2:]: [1800, 1600] = $3400\n"
     ]
    }
   ],
   "source": [
    "print(\"\\n=== Slicing: Getting Multiple Items ===\")\n",
    "\n",
    "# Basic slicing [start:stop]\n",
    "print(f\"Numbers: {numbers}\")\n",
    "print(f\"First 3 numbers [0:3]: {numbers[0:3]}\")   # Gets items at positions 0, 1, 2\n",
    "# Why [0:3] gets 3 items: It means \"from position 0 up to (but not including) position 3\"\n",
    "\n",
    "# Omitting start or stop\n",
    "print(f\"From index 2 onwards [2:]: {numbers[2:]}\")  # From position 2 to the end\n",
    "print(f\"Up to index 3 [:3]: {numbers[:3]}\")         # From start up to position 3\n",
    "\n",
    "# Using negative indices in slices\n",
    "print(f\"Last 3 numbers [-3:]: {numbers[-3:]}\")      # The last 3 items\n",
    "\n",
    "print(\"\\n=== Practical Slicing Example ===\")\n",
    "# Quarterly analysis - breaking sales into quarters\n",
    "print(f\"Sales data: {sales_data}\")\n",
    "\n",
    "# Q1: First 2 months (positions 0 and 1)\n",
    "q1_sales = sales_data[0:2]  # Gets items at positions 0, 1\n",
    "print(f\"Q1 Sales [0:2]: {q1_sales} = ${sum(q1_sales)}\")\n",
    "\n",
    "# Q2: Next 2 months (positions 2 and 3)\n",
    "q2_sales = sales_data[2:4]  # Gets items at positions 2, 3\n",
    "print(f\"Q2 Sales [2:4]: {q2_sales} = ${sum(q2_sales)}\")\n",
    "\n",
    "# Getting the last quarter (last 2 months)\n",
    "last_quarter = sales_data[-2:]  # From second-to-last to end\n",
    "print(f\"Last Quarter [-2:]: {last_quarter} = ${sum(last_quarter)}\")"
   ]
  },
  {
   "cell_type": "code",
   "execution_count": null,
   "id": "303c68db-c655-4d79-9c35-88c12b64b255",
   "metadata": {},
   "outputs": [],
   "source": []
  },
  {
   "cell_type": "markdown",
   "id": "c851cd34-963d-4892-8ff3-aac0f9bde353",
   "metadata": {},
   "source": [
    "### ✏️ Modifying Lists and Essential List Functions\n",
    "\n",
    "Unlike tuples, lists can be changed after creation. This makes them perfect for data that grows or changes over time, like daily sales records or customer orders.\n",
    "\n",
    "#### Adding Items to Lists\n",
    "\n",
    "The most common way to add items is with `.append()` - it adds one item to the end of your list:"
   ]
  },
  {
   "cell_type": "code",
   "execution_count": 25,
   "id": "list-modification",
   "metadata": {
    "scrolled": true
   },
   "outputs": [
    {
     "name": "stdout",
     "output_type": "stream",
     "text": [
      "Original fruits: ['apple', 'banana', 'cherry']\n",
      "After adding orange: ['apple', 'banana', 'cherry', 'orange']\n",
      "After adding mango: ['apple', 'banana', 'cherry', 'orange', 'mango']\n",
      "\n",
      "Original sales (5 months): [1200, 1450, 1100, 1800, 1600]\n",
      "Updated sales (6 months): [1200, 1450, 1100, 1800, 1600, 1750]\n"
     ]
    }
   ],
   "source": [
    "# Starting with our fruit list\n",
    "fruits = [\"apple\", \"banana\", \"cherry\"]\n",
    "print(f\"Original fruits: {fruits}\")\n",
    "\n",
    "# Adding items with .append()\n",
    "fruits.append(\"orange\")  # Add \"orange\" to the end\n",
    "print(f\"After adding orange: {fruits}\")\n",
    "\n",
    "# append() only adds ONE item at a time\n",
    "fruits.append(\"mango\")\n",
    "print(f\"After adding mango: {fruits}\")\n",
    "\n",
    "# Real-world example: Recording new sales\n",
    "sales_data = [1200, 1450, 1100, 1800, 1600]\n",
    "print(f\"\\nOriginal sales (5 months): {sales_data}\")\n",
    "\n",
    "sales_data.append(1750)  # June sales came in!\n",
    "print(f\"Updated sales (6 months): {sales_data}\")"
   ]
  },
  {
   "cell_type": "markdown",
   "id": "5e8a717a-596e-4999-8725-d59132d0d6b7",
   "metadata": {},
   "source": [
    "#### Modifying Existing Items\n",
    "\n",
    "You can change any item in a list by assigning a new value to its position:"
   ]
  },
  {
   "cell_type": "code",
   "execution_count": 26,
   "id": "e02afa06-e61e-4168-b35b-413021a38331",
   "metadata": {},
   "outputs": [
    {
     "name": "stdout",
     "output_type": "stream",
     "text": [
      "\n",
      "=== Modifying List Items ===\n",
      "Current fruits: ['apple', 'banana', 'cherry', 'orange', 'mango']\n",
      "After changing first fruit: ['apricot', 'banana', 'cherry', 'orange', 'mango']\n",
      "After changing last fruit: ['apricot', 'banana', 'cherry', 'orange', 'melon']\n",
      "\n",
      "Sales data: [1200, 1450, 1100, 1800, 1600, 1750]\n",
      "Corrected sales: [1200, 1450, 1300, 1800, 1600, 1750]\n"
     ]
    }
   ],
   "source": [
    "# Changing items using index assignment\n",
    "print(\"\\n=== Modifying List Items ===\")\n",
    "fruits = [\"apple\", \"banana\", \"cherry\", \"orange\", \"mango\"]\n",
    "print(f\"Current fruits: {fruits}\")\n",
    "\n",
    "# Change the first item (position 0)\n",
    "fruits[0] = \"apricot\"  # Replace \"apple\" with \"apricot\"\n",
    "print(f\"After changing first fruit: {fruits}\")\n",
    "\n",
    "# Change the last item\n",
    "fruits[-1] = \"melon\"  # Replace last item with \"melon\"\n",
    "print(f\"After changing last fruit: {fruits}\")\n",
    "\n",
    "# Practical example: Correcting data entry errors\n",
    "sales_data = [1200, 1450, 1100, 1800, 1600, 1750]\n",
    "print(f\"\\nSales data: {sales_data}\")\n",
    "\n",
    "# Oops! March sales were actually 1300, not 1100\n",
    "sales_data[2] = 1300  # Fix the third month (index 2)\n",
    "print(f\"Corrected sales: {sales_data}\")"
   ]
  },
  {
   "cell_type": "markdown",
   "id": "eb43183b-cd85-46d8-a341-897436130437",
   "metadata": {},
   "source": [
    "#### Essential List Functions\n",
    "\n",
    "Python provides built-in functions that work with lists. Here are the most important ones:\n",
    "\n",
    "**`len()` - Count items in a list**\n",
    "Returns how many items are in the list.\n",
    "\n",
    "**`sum()` - Add up all numbers**\n",
    "Only works with lists of numbers - adds them all together.\n",
    "\n",
    "**`max()` and `min()` - Find highest/lowest values**\n",
    "Find the maximum or minimum value in a list.|"
   ]
  },
  {
   "cell_type": "code",
   "execution_count": 27,
   "id": "5fc53339-41d0-4020-afdd-0cf0e8b45506",
   "metadata": {
    "scrolled": true
   },
   "outputs": [
    {
     "name": "stdout",
     "output_type": "stream",
     "text": [
      "\n",
      "=== Essential List Functions ===\n",
      "Fruits: ['apricot', 'banana', 'cherry', 'orange', 'melon']\n",
      "Number of fruits: 5\n",
      "\n",
      "Sales data: [1200, 1450, 1300, 1800, 1600, 1750]\n",
      "Months of data: 6\n",
      "Total sales: $9,100\n",
      "Average monthly sales: $1,517\n",
      "Best month: $1,800\n",
      "Worst month: $1,200\n",
      "\n",
      "=== Sales Analysis Summary ===\n",
      "Period: 6 months\n",
      "Total revenue: $9,100\n",
      "Monthly average: $1,517\n",
      "Range: $1,200 - $1,800\n"
     ]
    }
   ],
   "source": [
    "print(\"\\n=== Essential List Functions ===\")\n",
    "\n",
    "# len() - Length/Count of items\n",
    "fruits = [\"apricot\", \"banana\", \"cherry\", \"orange\", \"melon\"]\n",
    "print(f\"Fruits: {fruits}\")\n",
    "print(f\"Number of fruits: {len(fruits)}\")  # len() counts the items\n",
    "\n",
    "# Working with numeric data\n",
    "sales_data = [1200, 1450, 1300, 1800, 1600, 1750]\n",
    "print(f\"\\nSales data: {sales_data}\")\n",
    "\n",
    "# len() - How many months of data?\n",
    "months_count = len(sales_data)\n",
    "print(f\"Months of data: {months_count}\")\n",
    "\n",
    "# sum() - Total of all numbers\n",
    "total_sales = sum(sales_data)\n",
    "print(f\"Total sales: ${total_sales:,}\")\n",
    "\n",
    "# Calculating average (sum divided by length)\n",
    "average_sales = sum(sales_data) / len(sales_data)\n",
    "print(f\"Average monthly sales: ${average_sales:,.0f}\")\n",
    "\n",
    "# max() and min() - Finding extremes\n",
    "highest_month = max(sales_data)\n",
    "lowest_month = min(sales_data)\n",
    "print(f\"Best month: ${highest_month:,}\")\n",
    "print(f\"Worst month: ${lowest_month:,}\")\n",
    "\n",
    "# Practical analysis\n",
    "print(\"\\n=== Sales Analysis Summary ===\")\n",
    "print(f\"Period: {len(sales_data)} months\")\n",
    "print(f\"Total revenue: ${sum(sales_data):,}\")\n",
    "print(f\"Monthly average: ${sum(sales_data) / len(sales_data):,.0f}\")\n",
    "print(f\"Range: ${min(sales_data):,} - ${max(sales_data):,}\")"
   ]
  },
  {
   "cell_type": "markdown",
   "id": "0be4f42e-e75b-404c-b5e1-c5f117ce178f",
   "metadata": {},
   "source": [
    "#### 🎯 Function Quick Reference\n",
    "\n",
    "| Function | Purpose | Example | Result |\n",
    "|----------|---------|---------|--------|\n",
    "| `len(list)` | Count items | `len([10, 20, 30])` | `3` |\n",
    "| `sum(list)` | Add all numbers | `sum([10, 20, 30])` | `60` |\n",
    "| `max(list)` | Find highest | `max([10, 20, 30])` | `30` |\n",
    "| `min(list)` | Find lowest | `min([10, 20, 30])` | `10` |\n",
    "| `list.append(item)` | Add to end | `fruits.append(\"pear\")` | Adds \"pear\" |\n",
    "\n",
    "💡 **Pro Tip**: These functions are the building blocks of data analysis. You'll use them constantly to understand your data!"
   ]
  },
  {
   "cell_type": "markdown",
   "id": "tuples-header",
   "metadata": {},
   "source": [
    "### 3.2 Tuples - Fixed Data Records\n",
    "\n",
    "Tuples are **ordered, immutable (unchangeable) collections**. Once created, you cannot modify them. This makes them perfect for data that should remain constant, like coordinates, database records, or configuration settings.\n",
    "\n",
    "#### Why Use Tuples?\n",
    "\n",
    "Think of tuples as \"sealed envelopes\" - once you put data inside and seal it, the contents are protected from accidental changes. This is valuable when you want to ensure data integrity.\n",
    "\n",
    "#### Creating Tuples\n",
    "\n",
    "Tuples use parentheses `()` instead of square brackets `[]`:"
   ]
  },
  {
   "cell_type": "code",
   "execution_count": 28,
   "id": "a1ce4bd8-d830-457f-85f6-1821e2f48af6",
   "metadata": {},
   "outputs": [
    {
     "name": "stdout",
     "output_type": "stream",
     "text": [
      "=== Creating Tuples ===\n",
      "GPS coordinates: (10.5, 20.3)\n",
      "Person record: ('John', 'Doe', 30, 'Engineer')\n",
      "RGB color: (255, 128, 0)\n",
      "Date parts: (2024, 3, 15)\n",
      "Single item tuple: (42,) (type: <class 'tuple'>)\n",
      "Not a tuple: 42 (type: <class 'int'>)\n"
     ]
    }
   ],
   "source": [
    "# Creating different types of tuples\n",
    "print(\"=== Creating Tuples ===\")\n",
    "\n",
    "# GPS coordinates - should never change once recorded\n",
    "coordinates = (10.5, 20.3)  # (latitude, longitude)\n",
    "print(f\"GPS coordinates: {coordinates}\")\n",
    "\n",
    "# Database record - fixed employee data\n",
    "person_record = (\"John\", \"Doe\", 30, \"Engineer\")  # (first, last, age, job)\n",
    "print(f\"Person record: {person_record}\")\n",
    "\n",
    "# Color values - standard RGB format\n",
    "rgb_color = (255, 128, 0)  # (red, green, blue) values 0-255\n",
    "print(f\"RGB color: {rgb_color}\")\n",
    "\n",
    "# Date components - representing March 15, 2024\n",
    "date_parts = (2024, 3, 15)  # (year, month, day)\n",
    "print(f\"Date parts: {date_parts}\")\n",
    "\n",
    "# IMPORTANT: Single-item tuples need a trailing comma!\n",
    "single_item = (42,)  # The comma makes it a tuple\n",
    "not_a_tuple = (42)   # Without comma, this is just the number 42\n",
    "print(f\"Single item tuple: {single_item} (type: {type(single_item)})\")\n",
    "print(f\"Not a tuple: {not_a_tuple} (type: {type(not_a_tuple)})\")"
   ]
  },
  {
   "cell_type": "markdown",
   "id": "4d1aaae0-8315-42e6-993f-6a8bfe861ee5",
   "metadata": {},
   "source": [
    "#### Accessing Tuple Data\n",
    "\n",
    "Like lists, tuples support indexing and slicing:"
   ]
  },
  {
   "cell_type": "code",
   "execution_count": 29,
   "id": "38ce4759-0edf-4f92-97a9-9b71b4f18ed8",
   "metadata": {},
   "outputs": [
    {
     "name": "stdout",
     "output_type": "stream",
     "text": [
      "\n",
      "=== Accessing Tuple Items ===\n",
      "Employee database (list of tuples):\n",
      "Number of employees: 3\n",
      "First employee: ('Alice', 'Johnson', 28, 'Data Analyst', 65000)\n",
      "\n",
      "First employee's name: Alice Johnson\n",
      "First employee's position: Data Analyst\n",
      "First employee's salary: $65,000\n"
     ]
    }
   ],
   "source": [
    "print(\"\\n=== Accessing Tuple Items ===\")\n",
    "\n",
    "# Employee database with tuples\n",
    "# Each tuple: (first_name, last_name, age, position, salary)\n",
    "employee_records = [\n",
    "    (\"Alice\", \"Johnson\", 28, \"Data Analyst\", 65000),\n",
    "    (\"Bob\", \"Smith\", 35, \"Manager\", 85000),\n",
    "    (\"Carol\", \"Davis\", 42, \"Developer\", 75000)\n",
    "]\n",
    "\n",
    "print(\"Employee database (list of tuples):\")\n",
    "print(f\"Number of employees: {len(employee_records)}\")\n",
    "print(f\"First employee: {employee_records[0]}\")\n",
    "\n",
    "# Accessing items within a tuple\n",
    "first_employee = employee_records[0]\n",
    "print(f\"\\nFirst employee's name: {first_employee[0]} {first_employee[1]}\")\n",
    "print(f\"First employee's position: {first_employee[3]}\")\n",
    "print(f\"First employee's salary: ${first_employee[4]:,}\")"
   ]
  },
  {
   "cell_type": "markdown",
   "id": "ad3e0cdb-61a7-475b-a810-956a53856520",
   "metadata": {},
   "source": [
    "#### Tuple Methods\n",
    "\n",
    "Tuples have two main methods (because they can't be changed):\n",
    "\n",
    "**`.count(value)`** - Count how many times a value appears\n",
    "**`.index(value)`** - Find the position of the first occurrence"
   ]
  },
  {
   "cell_type": "code",
   "execution_count": 30,
   "id": "9e3f58a6-18ac-4f61-ab8f-7fc5ba4924a4",
   "metadata": {},
   "outputs": [
    {
     "name": "stdout",
     "output_type": "stream",
     "text": [
      "\n",
      "=== Tuple Methods ===\n",
      "Test scores: (85, 92, 78, 92, 88, 92)\n",
      "Number of scores equal to 92: 3\n",
      "First 92 is at position: 1\n",
      "\n",
      "=== Immutability Demo ===\n",
      "Original coordinates: (10.5, 20.3)\n",
      "❌ Error when trying to modify: 'tuple' object does not support item assignment\n",
      "✅ This is good! Coordinates are protected from accidental changes.\n"
     ]
    }
   ],
   "source": [
    "print(\"\\n=== Tuple Methods ===\")\n",
    "\n",
    "# Test scores as a tuple (unchangeable record of results)\n",
    "test_scores = (85, 92, 78, 92, 88, 92)\n",
    "print(f\"Test scores: {test_scores}\")\n",
    "\n",
    "# .count() - How many times does a value appear?\n",
    "count_92 = test_scores.count(92)\n",
    "print(f\"Number of scores equal to 92: {count_92}\")\n",
    "\n",
    "# .index() - What position is the first occurrence?\n",
    "first_92_position = test_scores.index(92)\n",
    "print(f\"First 92 is at position: {first_92_position}\")\n",
    "\n",
    "# Why tuples can't be modified\n",
    "print(\"\\n=== Immutability Demo ===\")\n",
    "coordinates = (10.5, 20.3)\n",
    "print(f\"Original coordinates: {coordinates}\")\n",
    "\n",
    "# This would cause an error:\n",
    "try:\n",
    "    coordinates[0] = 15.0  # Trying to change latitude\n",
    "except TypeError as e:\n",
    "    print(f\"❌ Error when trying to modify: {e}\")\n",
    "    print(\"✅ This is good! Coordinates are protected from accidental changes.\")"
   ]
  },
  {
   "cell_type": "markdown",
   "id": "3d15a5d2-b915-4b9f-8bb5-82385b1f4742",
   "metadata": {},
   "source": [
    "#### 🎯 When to Use Tuples vs Lists\n",
    "\n",
    "| Use Tuples For | Use Lists For |\n",
    "|----------------|---------------|\n",
    "| Coordinates: `(x, y)` | Sales data that grows daily |\n",
    "| Database records | Shopping cart items |\n",
    "| Configuration values | Student grades (adding new ones) |\n",
    "| Function return values | Any data you need to modify |\n",
    "| Dictionary keys | Sorted/filtered results |\n",
    "\n",
    "💡 **Rule of Thumb**: If you need to change it, use a list. If it should stay fixed, use a tuple.\n",
    "\n",
    "🔒 **Key Benefit**: Tuples protect your data from accidental modifications, making your code more reliable!"
   ]
  },
  {
   "cell_type": "markdown",
   "id": "sets-header",
   "metadata": {},
   "source": [
    "### 3.3 Sets - Unique Values and Powerful Comparisons\n",
    "\n",
    "Sets are **unordered collections of unique items**. They automatically remove duplicates and provide powerful operations for comparing groups of data. Think of a set as a \"bag of unique items\" where each item can appear only once.\n",
    "\n",
    "#### Why Use Sets?\n",
    "\n",
    "Sets solve two common data problems:\n",
    "1. **Finding unique values** - automatically removes duplicates\n",
    "2. **Comparing groups** - what's common, what's different?\n",
    "\n",
    "#### Creating Sets\n",
    "\n",
    "Sets use curly braces `{}` and automatically handle duplicates:"
   ]
  },
  {
   "cell_type": "code",
   "execution_count": 31,
   "id": "creating-sets",
   "metadata": {},
   "outputs": [
    {
     "name": "stdout",
     "output_type": "stream",
     "text": [
      "=== Creating Sets ===\n",
      "Colors: {'red', 'blue', 'green'}\n",
      "Numbers (duplicates removed): {1, 2, 3, 4, 5}\n",
      "   ↑ Notice: Only unique values remain!\n",
      "Departments: {'Marketing', 'IT', 'HR', 'Sales'}\n",
      "Empty set: set() (type: <class 'set'>)\n",
      "Empty dict: {} (type: <class 'dict'>)\n"
     ]
    }
   ],
   "source": [
    "print(\"=== Creating Sets ===\")\n",
    "\n",
    "# Direct creation with curly braces\n",
    "colors = {\"red\", \"green\", \"blue\"}\n",
    "print(f\"Colors: {colors}\")\n",
    "\n",
    "# Duplicates are automatically removed!\n",
    "numbers_set = {1, 2, 3, 3, 4, 4, 5}  # Notice repeated 3 and 4\n",
    "print(f\"Numbers (duplicates removed): {numbers_set}\")\n",
    "print(\"   ↑ Notice: Only unique values remain!\")\n",
    "\n",
    "# Sets for categorical data\n",
    "departments = {\"Sales\", \"Marketing\", \"IT\", \"HR\"}\n",
    "print(f\"Departments: {departments}\")\n",
    "\n",
    "# Creating an empty set (special syntax)\n",
    "empty_set = set()  # Can't use {} - that creates an empty dictionary!\n",
    "empty_dict = {}    # This is a dictionary, not a set!\n",
    "print(f\"Empty set: {empty_set} (type: {type(empty_set)})\")\n",
    "print(f\"Empty dict: {empty_dict} (type: {type(empty_dict)})\")"
   ]
  },
  {
   "cell_type": "markdown",
   "id": "52945def-b788-4176-8a42-28f4f617c995",
   "metadata": {},
   "source": [
    "#### Converting Lists to Sets - Instant Deduplication\n",
    "\n",
    "One of the most useful features of sets is removing duplicates from data:"
   ]
  },
  {
   "cell_type": "code",
   "execution_count": 32,
   "id": "b43596db-9adb-4d43-8ab4-b8a2f10399ed",
   "metadata": {},
   "outputs": [
    {
     "name": "stdout",
     "output_type": "stream",
     "text": [
      "\n",
      "=== Finding Unique Values ===\n",
      "All responses (8 total): ['yes', 'no', 'yes', 'maybe', 'yes', 'no', 'maybe', 'yes']\n",
      "Unique responses: {'no', 'yes', 'maybe'}\n",
      "Number of different responses: 3\n",
      "\n",
      "Customer bought 9 items\n",
      "But only 4 different products: {'laptop', 'monitor', 'mouse', 'keyboard'}\n"
     ]
    }
   ],
   "source": [
    "print(\"\\n=== Finding Unique Values ===\")\n",
    "\n",
    "# Common scenario: Survey with repeated responses\n",
    "survey_responses = [\"yes\", \"no\", \"yes\", \"maybe\", \"yes\", \"no\", \"maybe\", \"yes\"]\n",
    "print(f\"All responses ({len(survey_responses)} total): {survey_responses}\")\n",
    "\n",
    "# Convert to set to find unique responses\n",
    "unique_responses = set(survey_responses)\n",
    "print(f\"Unique responses: {unique_responses}\")\n",
    "print(f\"Number of different responses: {len(unique_responses)}\")\n",
    "\n",
    "# Real-world example: Customer purchases\n",
    "customer_purchases = [\n",
    "    \"laptop\", \"mouse\", \"laptop\", \"keyboard\", \"mouse\", \n",
    "    \"monitor\", \"laptop\", \"mouse\", \"keyboard\"\n",
    "]\n",
    "unique_products = set(customer_purchases)\n",
    "print(f\"\\nCustomer bought {len(customer_purchases)} items\")\n",
    "print(f\"But only {len(unique_products)} different products: {unique_products}\")"
   ]
  },
  {
   "cell_type": "markdown",
   "id": "a9eb901b-932d-43e8-a7f4-86658e190ce8",
   "metadata": {},
   "source": [
    "#### Adding and Removing Items\n",
    "\n",
    "Unlike tuples, sets can be modified - but remember, they only keep unique values:"
   ]
  },
  {
   "cell_type": "code",
   "execution_count": 33,
   "id": "9affcad0-6072-41a6-933b-020e62248c02",
   "metadata": {},
   "outputs": [
    {
     "name": "stdout",
     "output_type": "stream",
     "text": [
      "\n",
      "=== Modifying Sets ===\n",
      "Initial languages: {'Java', 'JavaScript', 'Python'}\n",
      "After adding R: {'R', 'Java', 'JavaScript', 'Python'}\n",
      "After adding Python again: {'R', 'Java', 'JavaScript', 'Python'}\n",
      "   ↑ No change - Python was already in the set!\n",
      "After adding SQL and C++: {'SQL', 'Java', 'JavaScript', 'C++', 'R', 'Python'}\n",
      "\n",
      "=== Removing Items ===\n",
      "After removing Java: {'SQL', 'JavaScript', 'C++', 'R', 'Python'}\n",
      "After discarding Go (wasn't there): {'SQL', 'JavaScript', 'C++', 'R', 'Python'}\n",
      "\n",
      "=== Checking Membership ===\n",
      "Has Python? True\n",
      "Has Ruby? False\n"
     ]
    }
   ],
   "source": [
    "print(\"\\n=== Modifying Sets ===\")\n",
    "\n",
    "# Starting with programming languages\n",
    "programming_languages = {\"Python\", \"Java\", \"JavaScript\"}\n",
    "print(f\"Initial languages: {programming_languages}\")\n",
    "\n",
    "# Adding single items with .add()\n",
    "programming_languages.add(\"R\")\n",
    "print(f\"After adding R: {programming_languages}\")\n",
    "\n",
    "# Try adding a duplicate - nothing happens!\n",
    "programming_languages.add(\"Python\")  # Python already exists\n",
    "print(f\"After adding Python again: {programming_languages}\")\n",
    "print(\"   ↑ No change - Python was already in the set!\")\n",
    "\n",
    "# Adding multiple items with .update()\n",
    "programming_languages.update([\"SQL\", \"C++\"])  # Takes a list\n",
    "print(f\"After adding SQL and C++: {programming_languages}\")\n",
    "\n",
    "print(\"\\n=== Removing Items ===\")\n",
    "\n",
    "# .remove() - Removes item (error if not found)\n",
    "programming_languages.remove(\"Java\")\n",
    "print(f\"After removing Java: {programming_languages}\")\n",
    "\n",
    "# .discard() - Safe removal (no error if item doesn't exist)\n",
    "programming_languages.discard(\"Go\")  # Go isn't in the set\n",
    "print(f\"After discarding Go (wasn't there): {programming_languages}\")\n",
    "\n",
    "# Checking membership - super fast in sets!\n",
    "print(\"\\n=== Checking Membership ===\")\n",
    "has_python = \"Python\" in programming_languages\n",
    "has_ruby = \"Ruby\" in programming_languages\n",
    "print(f\"Has Python? {has_python}\")\n",
    "print(f\"Has Ruby? {has_ruby}\")"
   ]
  },
  {
   "cell_type": "markdown",
   "id": "2138e90f-23ee-4003-8c22-10577e80b41c",
   "metadata": {},
   "source": [
    "#### Set Operations - Comparing Groups\n",
    "\n",
    "This is where sets truly shine! They provide mathematical set operations for comparing data:"
   ]
  },
  {
   "cell_type": "code",
   "execution_count": 34,
   "id": "32bfb710-c6c6-4aed-b2c4-0a673a1f4591",
   "metadata": {},
   "outputs": [
    {
     "name": "stdout",
     "output_type": "stream",
     "text": [
      "\n",
      "=== Team Skills Analysis - Set Operations ===\n",
      "Current situation:\n",
      "Team A skills: {'Excel', 'Statistics', 'SQL', 'Python', 'Tableau'}\n",
      "Team B skills: {'Excel', 'PowerBI', 'Machine Learning', 'SQL', 'R'}\n",
      "Required for project: {'SQL', 'Statistics', 'Machine Learning', 'Python'}\n",
      "\n",
      "📍 INTERSECTION - Skills both teams have:\n",
      "   Both teams know: {'Excel', 'SQL'}\n",
      "\n",
      "📍 UNION - All skills combined:\n",
      "   Complete skill pool: {'Excel', 'Statistics', 'Machine Learning', 'SQL', 'R', 'PowerBI', 'Python', 'Tableau'}\n",
      "   Total unique skills: 8\n",
      "\n",
      "📍 DIFFERENCE - Unique skills:\n",
      "   Only Team A has: {'Statistics', 'Tableau', 'Python'}\n",
      "   Only Team B has: {'PowerBI', 'Machine Learning', 'R'}\n",
      "\n",
      "📍 SYMMETRIC DIFFERENCE - Skills unique to each team:\n",
      "   Skills not shared: {'PowerBI', 'Machine Learning', 'Statistics', 'Python', 'Tableau', 'R'}\n"
     ]
    }
   ],
   "source": [
    "print(\"\\n=== Team Skills Analysis - Set Operations ===\")\n",
    "\n",
    "# Two teams with different skillsets\n",
    "team_a_skills = {\"Python\", \"SQL\", \"Excel\", \"Tableau\", \"Statistics\"}\n",
    "team_b_skills = {\"SQL\", \"R\", \"Excel\", \"PowerBI\", \"Machine Learning\"}\n",
    "required_skills = {\"Python\", \"SQL\", \"Statistics\", \"Machine Learning\"}\n",
    "\n",
    "print(\"Current situation:\")\n",
    "print(f\"Team A skills: {team_a_skills}\")\n",
    "print(f\"Team B skills: {team_b_skills}\")\n",
    "print(f\"Required for project: {required_skills}\")\n",
    "\n",
    "# INTERSECTION: What's in common?\n",
    "print(\"\\n📍 INTERSECTION - Skills both teams have:\")\n",
    "common_skills = team_a_skills.intersection(team_b_skills)\n",
    "# Alternative syntax: team_a_skills & team_b_skills\n",
    "print(f\"   Both teams know: {common_skills}\")\n",
    "\n",
    "# UNION: Everything combined\n",
    "print(\"\\n📍 UNION - All skills combined:\")\n",
    "all_skills = team_a_skills.union(team_b_skills)\n",
    "# Alternative syntax: team_a_skills | team_b_skills\n",
    "print(f\"   Complete skill pool: {all_skills}\")\n",
    "print(f\"   Total unique skills: {len(all_skills)}\")\n",
    "\n",
    "# DIFFERENCE: What's unique to each?\n",
    "print(\"\\n📍 DIFFERENCE - Unique skills:\")\n",
    "team_a_unique = team_a_skills.difference(team_b_skills)\n",
    "# Alternative syntax: team_a_skills - team_b_skills\n",
    "team_b_unique = team_b_skills - team_a_skills  # Using alternative syntax\n",
    "print(f\"   Only Team A has: {team_a_unique}\")\n",
    "print(f\"   Only Team B has: {team_b_unique}\")\n",
    "\n",
    "# SYMMETRIC DIFFERENCE: In one but not both\n",
    "print(\"\\n📍 SYMMETRIC DIFFERENCE - Skills unique to each team:\")\n",
    "unique_to_each = team_a_skills.symmetric_difference(team_b_skills)\n",
    "# Alternative syntax: team_a_skills ^ team_b_skills\n",
    "print(f\"   Skills not shared: {unique_to_each}\")"
   ]
  },
  {
   "cell_type": "markdown",
   "id": "42819f8a-50c8-4356-bad0-bc6dc1a50300",
   "metadata": {},
   "source": [
    "#### 🎯 Set Operations Quick Reference\n",
    "\n",
    "| Operation | Method | Symbol | Description | Example |\n",
    "|-----------|---------|---------|-------------|---------|\n",
    "| Intersection | `.intersection()` | `&` | Items in both | `{1,2} & {2,3}` → `{2}` |\n",
    "| Union | `.union()` | `\\|` | All items combined | `{1,2} \\| {2,3}` → `{1,2,3}` |\n",
    "| Difference | `.difference()` | `-` | Items in first only | `{1,2} - {2,3}` → `{1}` |\n",
    "| Symmetric Difference | `.symmetric_difference()` | `^` | Items in either but not both | `{1,2} ^ {2,3}` → `{1,3}` |\n",
    "\n",
    "#### 💡 When to Use Sets\n",
    "\n",
    "✅ **Use sets when you need to:**\n",
    "- Find unique values in data\n",
    "- Remove duplicates quickly\n",
    "- Compare groups (customers, products, skills)\n",
    "- Check membership efficiently\n",
    "- Perform mathematical set operations\n",
    "\n",
    "❌ **Don't use sets when you need to:**\n",
    "- Maintain order (sets are unordered)\n",
    "- Keep duplicate values\n",
    "- Access items by index\n",
    "- Store mutable items (lists/dicts can't go in sets)\n",
    "\n",
    "🚀 **Performance Tip**: Checking if an item is in a set is much faster than checking in a list!"
   ]
  },
  {
   "cell_type": "markdown",
   "id": "ranges-header",
   "metadata": {},
   "source": [
    "### 3.4 Ranges\n",
    "\n",
    "Ranges represent **sequences of numbers** and are memory-efficient. They're commonly used in loops and for creating number sequences."
   ]
  },
  {
   "cell_type": "code",
   "execution_count": 35,
   "id": "creating-ranges",
   "metadata": {},
   "outputs": [
    {
     "name": "stdout",
     "output_type": "stream",
     "text": [
      "Different range patterns:\n",
      "Simple range (0-4): [0, 1, 2, 3, 4]\n",
      "Start-stop (2-7): [2, 3, 4, 5, 6, 7]\n",
      "With step (0-18, step 3): [0, 3, 6, 9, 12, 15, 18]\n",
      "Years 2020-2024: [2020, 2021, 2022, 2023, 2024]\n",
      "Countdown: [10, 9, 8, 7, 6, 5, 4, 3, 2, 1]\n"
     ]
    }
   ],
   "source": [
    "# Creating ranges - different patterns\n",
    "simple_range = range(5)          # 0, 1, 2, 3, 4 (start=0, stop=5)\n",
    "start_stop = range(2, 8)         # 2, 3, 4, 5, 6, 7 (start=2, stop=8)\n",
    "with_step = range(0, 20, 3)      # 0, 3, 6, 9, 12, 15, 18 (step=3)\n",
    "years = range(2020, 2025)        # 2020, 2021, 2022, 2023, 2024\n",
    "countdown = range(10, 0, -1)     # 10, 9, 8, 7, 6, 5, 4, 3, 2, 1 (negative step)\n",
    "\n",
    "# Convert to list to see contents (ranges are lazy - they generate values as needed)\n",
    "print(\"Different range patterns:\")\n",
    "print(f\"Simple range (0-4): {list(simple_range)}\")\n",
    "print(f\"Start-stop (2-7): {list(start_stop)}\")\n",
    "print(f\"With step (0-18, step 3): {list(with_step)}\")\n",
    "print(f\"Years 2020-2024: {list(years)}\")\n",
    "print(f\"Countdown: {list(countdown)}\")"
   ]
  },
  {
   "cell_type": "code",
   "execution_count": 36,
   "id": "range-operations",
   "metadata": {},
   "outputs": [
    {
     "name": "stdout",
     "output_type": "stream",
     "text": [
      "Range operations:\n",
      "Length of big range: 1,000,000 numbers\n",
      "Memory efficient: ranges don't store all values\n",
      "Is 500 in range? True\n",
      "Is 999,999 in range? True\n",
      "Is 1,000,000 in range? False\n",
      "\n",
      "Range properties:\n",
      "Range: [5, 8, 11, 14, 17, 20, 23]\n",
      "Start: 5\n",
      "Stop: 25\n",
      "Step: 3\n"
     ]
    }
   ],
   "source": [
    "# Range operations and properties\n",
    "big_range = range(0, 1000000)  # One million numbers!\n",
    "print(\"Range operations:\")\n",
    "print(f\"Length of big range: {len(big_range):,} numbers\")\n",
    "print(f\"Memory efficient: ranges don't store all values\")\n",
    "\n",
    "# Check membership (very fast even for large ranges)\n",
    "test_numbers = [500, 999999, 1000000]\n",
    "for num in test_numbers:\n",
    "    is_in_range = num in big_range\n",
    "    print(f\"Is {num:,} in range? {is_in_range}\")\n",
    "\n",
    "# Range properties\n",
    "sample_range = range(5, 25, 3)\n",
    "print(f\"\\nRange properties:\")\n",
    "print(f\"Range: {list(sample_range)}\")\n",
    "print(f\"Start: {sample_range.start}\")\n",
    "print(f\"Stop: {sample_range.stop}\")\n",
    "print(f\"Step: {sample_range.step}\")"
   ]
  },
  {
   "cell_type": "code",
   "execution_count": 37,
   "id": "range-practical",
   "metadata": {},
   "outputs": [
    {
     "name": "stdout",
     "output_type": "stream",
     "text": [
      "Practical range usage:\n",
      "\n",
      "1. Processing batches:\n",
      "   Processing records 0 to 249\n",
      "   Processing records 250 to 499\n",
      "   Processing records 500 to 749\n",
      "   Processing records 750 to 999\n",
      "\n",
      "2. Creating analysis sequences:\n",
      "   Percentage points: [0, 10, 20, 30, 40, 50, 60, 70, 80, 90, 100]\n",
      "   Temperature range: [-10, -5, 0, 5, 10, 15, 20, 25, 30, 35, 40]\n",
      "\n",
      "3. Time-based analysis:\n",
      "   Business hours: [9, 10, 11, 12, 13, 14, 15, 16, 17]\n",
      "   Analysis years: [2020, 2021, 2022, 2023, 2024]\n"
     ]
    }
   ],
   "source": [
    "# Practical examples with ranges\n",
    "print(\"Practical range usage:\")\n",
    "\n",
    "# Processing iterations\n",
    "print(\"\\n1. Processing batches:\")\n",
    "total_records = 1000\n",
    "batch_size = 250\n",
    "for batch_start in range(0, total_records, batch_size):\n",
    "    batch_end = min(batch_start + batch_size, total_records)\n",
    "    print(f\"   Processing records {batch_start} to {batch_end-1}\")\n",
    "\n",
    "# Creating sequences for analysis\n",
    "print(\"\\n2. Creating analysis sequences:\")\n",
    "percentages = list(range(0, 101, 10))  # 0%, 10%, 20%, ..., 100%\n",
    "temperature_range = list(range(-10, 41, 5))  # -10°C to 40°C in 5° steps\n",
    "print(f\"   Percentage points: {percentages}\")\n",
    "print(f\"   Temperature range: {temperature_range}\")\n",
    "\n",
    "# Time-based sequences\n",
    "print(\"\\n3. Time-based analysis:\")\n",
    "business_hours = list(range(9, 18))  # 9 AM to 5 PM\n",
    "quarterly_years = list(range(2020, 2025))\n",
    "print(f\"   Business hours: {business_hours}\")\n",
    "print(f\"   Analysis years: {quarterly_years}\")"
   ]
  },
  {
   "cell_type": "markdown",
   "id": "combining-structures-header",
   "metadata": {},
   "source": [
    "### 3.5 Combining Data Structures - Real-World Analysis\n",
    "\n",
    "In practice, data analysis rarely uses just one type of data structure. Real problems require combining lists, sets, tuples, and other structures to leverage each one's strengths. Let's see how they work together.\n",
    "\n",
    "#### Why Combine Data Structures?\n",
    "\n",
    "Each structure has unique strengths:\n",
    "- **Lists**: Preserve order and allow duplicates (perfect for raw data)\n",
    "- **Sets**: Find unique values instantly (great for categories)\n",
    "- **Tuples**: Group related data together (ideal for records)\n",
    "- **Dictionaries**: Link keys to values (we'll preview these)\n",
    "\n",
    "Let's analyze customer survey data using multiple structures:"
   ]
  },
  {
   "cell_type": "code",
   "execution_count": 45,
   "id": "3e851757-bf4e-4f44-99c9-280cf38f6bae",
   "metadata": {},
   "outputs": [
    {
     "name": "stdout",
     "output_type": "stream",
     "text": [
      "=== Customer Survey Analysis - Combining Data Structures ===\n",
      "\n",
      "📊 Raw Survey Data (Lists)\n",
      "Responses (10): ['Excellent', 'Good', 'Fair', 'Good', 'Excellent', 'Poor', 'Good', 'Excellent', 'Fair', 'Good']\n",
      "Ages (10): [25, 34, 45, 28, 52, 31, 29, 47, 38, 33]\n",
      "Cities (10): ['New York', 'Chicago', 'New York', 'Boston', 'Chicago', 'Seattle', 'Boston', 'New York', 'Seattle', 'Chicago']\n"
     ]
    }
   ],
   "source": [
    "print(\"=== Customer Survey Analysis - Combining Data Structures ===\\n\")\n",
    "\n",
    "# STEP 1: Collect raw data using lists (preserves order, allows duplicates)\n",
    "survey_responses = [\n",
    "    \"Excellent\", \"Good\", \"Fair\", \"Good\", \"Excellent\", \n",
    "    \"Poor\", \"Good\", \"Excellent\", \"Fair\", \"Good\"\n",
    "]\n",
    "customer_ages = [25, 34, 45, 28, 52, 31, 29, 47, 38, 33]\n",
    "customer_cities = [\n",
    "    \"New York\", \"Chicago\", \"New York\", \"Boston\", \"Chicago\",\n",
    "    \"Seattle\", \"Boston\", \"New York\", \"Seattle\", \"Chicago\"\n",
    "]\n",
    "\n",
    "print(\"📊 Raw Survey Data (Lists)\")\n",
    "print(f\"Responses ({len(survey_responses)}): {survey_responses}\")\n",
    "print(f\"Ages ({len(customer_ages)}): {customer_ages}\")\n",
    "print(f\"Cities ({len(customer_cities)}): {customer_cities}\")"
   ]
  },
  {
   "cell_type": "markdown",
   "id": "d234385b-6db8-4325-93e1-f25f8374d281",
   "metadata": {},
   "source": [
    "#### Step 1: Finding Unique Values with Sets\n",
    "\n",
    "Lists show us all responses, but we need to know what categories exist:"
   ]
  },
  {
   "cell_type": "code",
   "execution_count": 48,
   "id": "49729296-788e-4a54-8cac-065b99a768d9",
   "metadata": {},
   "outputs": [
    {
     "name": "stdout",
     "output_type": "stream",
     "text": [
      "\n",
      "🎯 Finding Unique Values (Sets)\n",
      "Response types: {'Fair', 'Excellent', 'Poor', 'Good'}\n",
      "Cities served: {'New York', 'Seattle', 'Boston', 'Chicago'}\n",
      "→ We have 4 response types from 4 cities\n",
      "→ Response diversity: 40% (higher = more varied feedback)\n"
     ]
    }
   ],
   "source": [
    "print(\"\\n🎯 Finding Unique Values (Sets)\")\n",
    "\n",
    "# Convert lists to sets to find unique values\n",
    "unique_responses = set(survey_responses)\n",
    "unique_cities = set(customer_cities)\n",
    "\n",
    "print(f\"Response types: {unique_responses}\")\n",
    "print(f\"Cities served: {unique_cities}\")\n",
    "print(f\"→ We have {len(unique_responses)} response types from {len(unique_cities)} cities\")\n",
    "\n",
    "# Useful insight: Are we getting diverse feedback?\n",
    "response_diversity = len(unique_responses) / len(survey_responses) * 100\n",
    "print(f\"→ Response diversity: {response_diversity:.0f}% (higher = more varied feedback)\")"
   ]
  },
  {
   "cell_type": "markdown",
   "id": "7f8bb276-d5a8-4bcd-9086-0735ea1033e8",
   "metadata": {},
   "source": [
    "#### Step 2: Counting and Analyzing with Combined Structures\n",
    "\n",
    "Now let's combine sets and lists to count occurrences:"
   ]
  },
  {
   "cell_type": "code",
   "execution_count": 49,
   "id": "f959c43e-1435-431b-be60-3b11388eb7cd",
   "metadata": {},
   "outputs": [
    {
     "name": "stdout",
     "output_type": "stream",
     "text": [
      "\n",
      "📈 Response Analysis (Lists + Sets + Dictionaries)\n",
      "Response Breakdown:\n",
      "----------------------------------------\n",
      "Fair       |  2 responses (20.0%) ████\n",
      "Excellent  |  3 responses (30.0%) ██████\n",
      "Poor       |  1 responses (10.0%) ██\n",
      "Good       |  4 responses (40.0%) ████████\n"
     ]
    }
   ],
   "source": [
    " print(\"\\n📈 Response Analysis (Lists + Sets + Dictionaries)\")\n",
    "\n",
    "# We'll use a dictionary to store our analysis\n",
    "# Dictionary preview: {key: value} pairs\n",
    "response_analysis = {}\n",
    "\n",
    "# For each unique response type (from set)\n",
    "for response_type in unique_responses:\n",
    "    # Count occurrences in original list\n",
    "    count = survey_responses.count(response_type)\n",
    "    percentage = (count / len(survey_responses)) * 100\n",
    "    \n",
    "    # Store as tuple (immutable pair of values)\n",
    "    response_analysis[response_type] = (count, percentage)\n",
    "\n",
    "# Display results\n",
    "print(\"Response Breakdown:\")\n",
    "print(\"-\" * 40)\n",
    "for response, (count, percentage) in response_analysis.items():\n",
    "    # Create visual bar chart\n",
    "    bar = \"█\" * int(percentage / 5)  # Each █ represents 5%\n",
    "    print(f\"{response:10} | {count:2} responses ({percentage:4.1f}%) {bar}\")"
   ]
  },
  {
   "cell_type": "markdown",
   "id": "breadcrumb-2",
   "metadata": {},
   "source": [
    "🍞 **Data Analytics Breadcrumb #2: Data Structure Choice Matters**\n",
    "\n",
    "In data analytics, choosing the right data structure can make your analysis much more efficient:\n",
    "\n",
    "- **Lists**: Perfect for maintaining order (time series data, rankings, sequences)\n",
    "- **Sets**: Excellent for finding unique values, removing duplicates, and comparing groups\n",
    "- **Tuples**: Ideal for records that shouldn't change (coordinates, database rows)\n",
    "- **Combining structures**: Most real analyses use multiple structures together\n",
    "\n",
    "For example, when you load a CSV file later, each column might be a list, but you might convert it to a set to find unique values, or create tuples to represent each row as a record. Understanding these patterns now will make advanced data manipulation much easier!"
   ]
  },
  {
   "cell_type": "markdown",
   "id": "fstring-explanation",
   "metadata": {},
   "source": [
    "**Notice the f-string formatting above!** \n",
    "\n",
    "- `f\"Age: {age}\"` - Basic variable insertion\n",
    "- `f\"{population:,}\"` - Adds commas to large numbers\n",
    "- `f\"{pi:.2f}\"` - Rounds to 2 decimal places\n",
    "- `f\"{interest_rate:.1%}\"` - Converts decimal to percentage\n",
    "\n",
    "F-strings make it easy to create formatted, readable output!"
   ]
  },
  {
   "cell_type": "markdown",
   "id": "summary-header",
   "metadata": {},
   "source": [
    "---\n",
    "\n",
    "## Summary & Next Steps\n",
    "\n",
    "Congratulations! You've completed your first day of Python programming. Today you learned:\n",
    "\n",
    "### **Python Environment**\n",
    "- **REPL**: Interactive Python shell for immediate code execution\n",
    "- **Jupyter Notebooks**: Interactive documents combining code, text, and results\n",
    "\n",
    "### **Python Basics** \n",
    "- Using Python as a calculator with arithmetic operators\n",
    "- Displaying output with the `print()` function\n",
    "\n",
    "### **Variables & Data Types**\n",
    "- **Integers**: Whole numbers for counting and calculations\n",
    "- **Floats**: Decimal numbers for precise measurements\n",
    "- **Strings**: Text data for names, categories, and descriptions\n",
    "- **Booleans**: True/False values for conditions and logic\n",
    "- Using `type()` to inspect data types\n",
    "\n",
    "### **Core Data Structures**\n",
    "- **Lists**: Ordered, mutable collections - your go-to for sequences of data\n",
    "- **Tuples**: Ordered, immutable collections - perfect for fixed records\n",
    "- **Sets**: Unordered, unique collections - excellent for finding distinct values\n",
    "- **Ranges**: Memory-efficient number sequences - ideal for loops and iterations\n",
    "- **Combining structures**: Using multiple data types together for complex analysis\n",
    "\n",
    "### **Key Skills Developed**\n",
    "- Creating and manipulating different data structures\n",
    "- Understanding when to use each structure type\n",
    "- Indexing and slicing to access specific data\n",
    "- Combining data structures for real-world analysis scenarios\n",
    "\n",
    "These fundamental concepts form the building blocks of all Python programming. In data science, you'll constantly use these structures - lists for storing data points, sets for finding unique categories, tuples for database records, and more.\n",
    "\n",
    "**Next Up - Day 2**: Tomorrow we'll dive into **Functions & Packages** and get our first taste of **NumPy**, Python's powerhouse library for numerical computing. You'll learn how to:\n",
    "- Write reusable code with functions\n",
    "- Import and use Python packages\n",
    "- Discover NumPy's incredible efficiency for handling large datasets\n",
    "- Perform vectorized operations that make data analysis lightning-fast\n",
    "\n",
    "Get ready to supercharge your Python skills and see why Python is the preferred language for data science!"
   ]
  },
  {
   "cell_type": "markdown",
   "id": "360ed83d-552e-4f05-a727-181fa34a96a3",
   "metadata": {},
   "source": [
    "## 📚 Additional Learning Resources\n",
    "\n",
    "### 🐍 Python Basics & Environment\n",
    "\n",
    "#### Official Documentation\n",
    "- [Python Official Tutorial](https://docs.python.org/3/tutorial/index.html) - The official Python tutorial\n",
    "- [Python for Beginners](https://www.python.org/about/gettingstarted/) - Python.org's beginner guide\n",
    "- [Jupyter Notebook Documentation](https://jupyter-notebook.readthedocs.io/en/stable/) - Complete Jupyter guide\n",
    "\n",
    "#### Interactive Learning\n",
    "- [Python Tutor](https://pythontutor.com/) - Visualize code execution step-by-step\n",
    "- [Repl.it Python](https://replit.com/languages/python3) - Online Python environment\n",
    "- [Google Colab](https://colab.research.google.com/) - Free Jupyter notebooks in the cloud\n",
    "\n",
    "### 🔢 Variables and Data Types\n",
    "\n",
    "#### Comprehensive Guides\n",
    "- [Real Python - Variables](https://realpython.com/python-variables/) - Deep dive into Python variables\n",
    "- [W3Schools Python Data Types](https://www.w3schools.com/python/python_datatypes.asp) - Quick reference with examples\n",
    "- [Python Type Conversion](https://www.programiz.com/python-programming/type-conversion-and-casting) - Type casting guide\n",
    "\n",
    "#### Video Resources\n",
    "- [Corey Schafer - Python Data Types](https://www.youtube.com/watch?v=khKv-8q7YmY) - Excellent video explanation\n",
    "- [CS Dojo - Variables and Types](https://www.youtube.com/watch?v=OH86oLzVzzw) - Beginner-friendly tutorial\n",
    "\n",
    "### 📊 Data Structures\n",
    "\n",
    "#### Lists\n",
    "- [Python Lists - Official Docs](https://docs.python.org/3/tutorial/datastructures.html#more-on-lists) - Comprehensive list methods\n",
    "- [Real Python - Lists and Tuples](https://realpython.com/python-lists-tuples/) - In-depth comparison\n",
    "- [List Comprehensions Guide](https://realpython.com/list-comprehension-python/) - Advanced list techniques\n",
    "\n",
    "#### Tuples\n",
    "- [Python Tuples - W3Schools](https://www.w3schools.com/python/python_tuples.asp) - Quick tutorial\n",
    "- [Tuple Unpacking](https://treyhunner.com/2018/03/tuple-unpacking-improves-python-code-readability/) - Advanced unpacking patterns\n",
    "- [Why Use Tuples?](https://realpython.com/python-lists-tuples/#python-tuples) - When to choose tuples\n",
    "\n",
    "#### Sets\n",
    "- [Python Sets Tutorial](https://realpython.com/python-sets/) - Comprehensive set operations\n",
    "- [Set Operations Visualized](https://www.programiz.com/python-programming/set) - Visual guide to set math\n",
    "- [Set Methods Reference](https://docs.python.org/3/library/stdtypes.html#set-types-set-frozenset) - All set methods\n",
    "\n",
    "#### Ranges\n",
    "- [Python range() Function](https://realpython.com/python-range/) - Everything about ranges\n",
    "- [Range vs List Performance](https://www.geeksforgeeks.org/python-range-function/) - Why ranges are memory efficient\n",
    "\n",
    "### 🎨 String Formatting\n",
    "\n",
    "- [F-Strings Guide](https://realpython.com/python-f-strings/) - Complete f-string tutorial\n",
    "- [String Formatting Comparison](https://realpython.com/python-string-formatting/) - All formatting methods\n",
    "- [F-String Cheat Sheet](https://www.python.org/dev/peps/pep-0498/) - Official f-string specification\n",
    "- [Format Specification Mini-Language](https://docs.python.org/3/library/string.html#format-specification-mini-language) - Advanced formatting\n",
    "\n",
    "### 🏃‍♂️ Practice Platforms\n",
    "\n",
    "#### Interactive Exercises\n",
    "- [HackerRank Python](https://www.hackerrank.com/domains/python) - Structured challenges\n",
    "- [LeetCode Python](https://leetcode.com/problemset/all/?difficulty=Easy&tags=python) - Problem-solving practice\n",
    "- [Codewars Python](https://www.codewars.com/kata/search/python?q=&tags=Fundamentals) - Gamified learning\n",
    "- [Python Exercises](https://www.w3resource.com/python-exercises/) - Hundreds of exercises\n",
    "\n",
    "#### Project-Based Learning\n",
    "- [Python Projects for Beginners](https://realpython.com/tutorials/projects/) - Real Python projects\n",
    "- [Automate the Boring Stuff](https://automatetheboringstuff.com/) - Practical Python automation\n",
    "- [Python for Data Analysis](https://www.oreilly.com/library/view/python-for-data/9781491957653/) - Data-focused Python\n",
    "\n",
    "### 📖 Books (Free Online)\n",
    "\n",
    "- [Think Python](https://greenteapress.com/wp/think-python-2e/) - How to think like a computer scientist\n",
    "- [A Byte of Python](https://python.swaroopch.com/) - Beginner-friendly book\n",
    "- [Python Data Science Handbook](https://jakevdp.github.io/PythonDataScienceHandbook/) - Focus on data science\n",
    "\n",
    "### 🎥 Video Courses\n",
    "\n",
    "#### Free YouTube Series\n",
    "- [Corey Schafer Python Tutorials](https://www.youtube.com/playlist?list=PL-osiE80TeTskrapNbzXhwoFUiLCjGgY7) - Comprehensive series\n",
    "- [Python Programming by CS Dojo](https://www.youtube.com/playlist?list=PLBZBJbE_rGRWeh5mIBhD-hhDwSEDxogDg) - Beginner-friendly\n",
    "- [Socratica Python](https://www.youtube.com/playlist?list=PLi01XoE8jYohWFPpC17Z-wWhPOSuh8Er-) - Clear, concise tutorials\n",
    "\n",
    "### 🔧 Python Tools & References\n",
    "\n",
    "- [Python Cheat Sheet](https://www.pythoncheatsheet.org/) - Quick reference\n",
    "- [Python Built-in Functions](https://docs.python.org/3/library/functions.html) - All built-in functions\n",
    "- [PEP 8 Style Guide](https://www.python.org/dev/peps/pep-0008/) - Python coding standards\n",
    "- [Python Visualizer](https://pythontutor.com/visualize.html) - Visualize data structures\n",
    "\n",
    "### 🚀 Next Steps: Data Science Libraries\n",
    "\n",
    "Once comfortable with basics, explore:\n",
    "- [NumPy Tutorial](https://numpy.org/doc/stable/user/quickstart.html) - Numerical computing\n",
    "- [Pandas Tutorial](https://pandas.pydata.org/docs/getting_started/tutorials.html) - Data manipulation\n",
    "- [Matplotlib Tutorial](https://matplotlib.org/stable/tutorials/index.html) - Data visualization\n",
    "\n",
    "### 💬 Communities & Help\n",
    "\n",
    "- [Python Reddit](https://www.reddit.com/r/learnpython/) - Active learning community\n",
    "- [Stack Overflow Python](https://stackoverflow.com/questions/tagged/python) - Q&A platform\n",
    "- [Python Discord](https://pythondiscord.com/) - Real-time chat help\n",
    "- [Python Forum](https://python-forum.io/) - Discussion forum\n",
    "\n",
    "### 📱 Mobile Learning\n",
    "\n",
    "- [SoloLearn Python](https://www.sololearn.com/learn/courses/python-introduction) - Learn on mobile\n",
    "- [Mimo](https://getmimo.com/) - Bite-sized Python lessons\n",
    "- [Programming Hero](https://www.programming-hero.com/) - Interactive mobile learning\n",
    "\n",
    "---\n",
    "\n",
    "💡 **Learning Tip**: Start with the official Python tutorial and Real Python articles for concepts you want to understand deeper. Use practice platforms"
   ]
  }
 ],
 "metadata": {
  "kernelspec": {
   "display_name": "Python [conda env:base] *",
   "language": "python",
   "name": "conda-base-py"
  },
  "language_info": {
   "codemirror_mode": {
    "name": "ipython",
    "version": 3
   },
   "file_extension": ".py",
   "mimetype": "text/x-python",
   "name": "python",
   "nbconvert_exporter": "python",
   "pygments_lexer": "ipython3",
   "version": "3.12.7"
  }
 },
 "nbformat": 4,
 "nbformat_minor": 5
}
